{
  "nbformat": 4,
  "nbformat_minor": 0,
  "metadata": {
    "colab": {
      "provenance": []
    },
    "kernelspec": {
      "name": "python3",
      "display_name": "Python 3"
    },
    "language_info": {
      "name": "python"
    }
  },
  "cells": [
    {
      "cell_type": "markdown",
      "source": [
        "#Data Quality Assesment"
      ],
      "metadata": {
        "id": "vHVNFBSFYpoP"
      }
    },
    {
      "cell_type": "code",
      "source": [
        "# Import library yang akan digunakan\n",
        "import pandas as pd\n",
        "import numpy as np\n",
        "import matplotlib.pyplot as plt\n",
        "import seaborn as sns"
      ],
      "metadata": {
        "id": "X_yWPqIEZF4u"
      },
      "execution_count": null,
      "outputs": []
    },
    {
      "cell_type": "code",
      "source": [
        "from google.colab import drive\n",
        "drive.mount('/content/drive')"
      ],
      "metadata": {
        "id": "F1u6yN-WQmnY",
        "colab": {
          "base_uri": "https://localhost:8080/"
        },
        "outputId": "87b9c465-7f6d-4ca3-c3e7-93e635b53803"
      },
      "execution_count": null,
      "outputs": [
        {
          "output_type": "stream",
          "name": "stdout",
          "text": [
            "Drive already mounted at /content/drive; to attempt to forcibly remount, call drive.mount(\"/content/drive\", force_remount=True).\n"
          ]
        }
      ]
    },
    {
      "cell_type": "code",
      "source": [
        "# Load dataset\n",
        "df_melbourne = pd.read_csv('/content/drive/MyDrive/Cleaned Melbourne Housing Market.csv')\n",
        "\n",
        "# Atur opsi tampilan\n",
        "pd.set_option('display.float_format', lambda x: '%.3f' % x)\n",
        "pd.set_option('display.max_columns', None)\n",
        "pd.set_option('display.max_rows', 30)"
      ],
      "metadata": {
        "id": "6WmHA8OZaXJZ"
      },
      "execution_count": null,
      "outputs": []
    },
    {
      "cell_type": "code",
      "source": [
        "# Menampilkan lima baris pertama dari dataset Melbourne Housing Market\n",
        "df_melbourne.head()"
      ],
      "metadata": {
        "colab": {
          "base_uri": "https://localhost:8080/",
          "height": 348
        },
        "id": "ESsVlx7aaqBE",
        "outputId": "c56b8dcd-56ff-4a1c-e6c2-2a95f8b00360"
      },
      "execution_count": null,
      "outputs": [
        {
          "output_type": "execute_result",
          "data": {
            "text/plain": [
              "       Suburb           Address  Rooms Type       Price Method SellerG  \\\n",
              "0  Abbotsford      85 Turner St      2    h 1480000.000      S  Biggin   \n",
              "1  Abbotsford   25 Bloomburg St      2    h 1035000.000      S  Biggin   \n",
              "2  Abbotsford      5 Charles St      3    h 1465000.000     SP  Biggin   \n",
              "3  Abbotsford  40 Federation La      3    h  850000.000     PI  Biggin   \n",
              "4  Abbotsford       55a Park St      4    h 1600000.000     VB  Nelson   \n",
              "\n",
              "        Date  Distance  Postcode  Bedroom2  Bathroom   Car  Landsize  \\\n",
              "0  3/12/2016     2.500  3067.000     2.000     1.000 1.000   202.000   \n",
              "1  4/02/2016     2.500  3067.000     2.000     1.000 0.000   156.000   \n",
              "2  4/03/2017     2.500  3067.000     3.000     2.000 0.000   134.000   \n",
              "3  4/03/2017     2.500  3067.000     3.000     2.000 1.000    94.000   \n",
              "4  4/06/2016     2.500  3067.000     3.000     1.000 2.000   120.000   \n",
              "\n",
              "   BuildingArea  YearBuilt CouncilArea  Lattitude  Longtitude  \\\n",
              "0           NaN        NaN       Yarra    -37.800     144.998   \n",
              "1        79.000   1900.000       Yarra    -37.808     144.993   \n",
              "2       150.000   1900.000       Yarra    -37.809     144.994   \n",
              "3           NaN        NaN       Yarra    -37.797     144.997   \n",
              "4       142.000   2014.000       Yarra    -37.807     144.994   \n",
              "\n",
              "              Regionname  Propertycount  \n",
              "0  Northern Metropolitan       4019.000  \n",
              "1  Northern Metropolitan       4019.000  \n",
              "2  Northern Metropolitan       4019.000  \n",
              "3  Northern Metropolitan       4019.000  \n",
              "4  Northern Metropolitan       4019.000  "
            ],
            "text/html": [
              "\n",
              "  <div id=\"df-b4dd1d81-7e57-4435-9f20-e5853758f542\" class=\"colab-df-container\">\n",
              "    <div>\n",
              "<style scoped>\n",
              "    .dataframe tbody tr th:only-of-type {\n",
              "        vertical-align: middle;\n",
              "    }\n",
              "\n",
              "    .dataframe tbody tr th {\n",
              "        vertical-align: top;\n",
              "    }\n",
              "\n",
              "    .dataframe thead th {\n",
              "        text-align: right;\n",
              "    }\n",
              "</style>\n",
              "<table border=\"1\" class=\"dataframe\">\n",
              "  <thead>\n",
              "    <tr style=\"text-align: right;\">\n",
              "      <th></th>\n",
              "      <th>Suburb</th>\n",
              "      <th>Address</th>\n",
              "      <th>Rooms</th>\n",
              "      <th>Type</th>\n",
              "      <th>Price</th>\n",
              "      <th>Method</th>\n",
              "      <th>SellerG</th>\n",
              "      <th>Date</th>\n",
              "      <th>Distance</th>\n",
              "      <th>Postcode</th>\n",
              "      <th>Bedroom2</th>\n",
              "      <th>Bathroom</th>\n",
              "      <th>Car</th>\n",
              "      <th>Landsize</th>\n",
              "      <th>BuildingArea</th>\n",
              "      <th>YearBuilt</th>\n",
              "      <th>CouncilArea</th>\n",
              "      <th>Lattitude</th>\n",
              "      <th>Longtitude</th>\n",
              "      <th>Regionname</th>\n",
              "      <th>Propertycount</th>\n",
              "    </tr>\n",
              "  </thead>\n",
              "  <tbody>\n",
              "    <tr>\n",
              "      <th>0</th>\n",
              "      <td>Abbotsford</td>\n",
              "      <td>85 Turner St</td>\n",
              "      <td>2</td>\n",
              "      <td>h</td>\n",
              "      <td>1480000.000</td>\n",
              "      <td>S</td>\n",
              "      <td>Biggin</td>\n",
              "      <td>3/12/2016</td>\n",
              "      <td>2.500</td>\n",
              "      <td>3067.000</td>\n",
              "      <td>2.000</td>\n",
              "      <td>1.000</td>\n",
              "      <td>1.000</td>\n",
              "      <td>202.000</td>\n",
              "      <td>NaN</td>\n",
              "      <td>NaN</td>\n",
              "      <td>Yarra</td>\n",
              "      <td>-37.800</td>\n",
              "      <td>144.998</td>\n",
              "      <td>Northern Metropolitan</td>\n",
              "      <td>4019.000</td>\n",
              "    </tr>\n",
              "    <tr>\n",
              "      <th>1</th>\n",
              "      <td>Abbotsford</td>\n",
              "      <td>25 Bloomburg St</td>\n",
              "      <td>2</td>\n",
              "      <td>h</td>\n",
              "      <td>1035000.000</td>\n",
              "      <td>S</td>\n",
              "      <td>Biggin</td>\n",
              "      <td>4/02/2016</td>\n",
              "      <td>2.500</td>\n",
              "      <td>3067.000</td>\n",
              "      <td>2.000</td>\n",
              "      <td>1.000</td>\n",
              "      <td>0.000</td>\n",
              "      <td>156.000</td>\n",
              "      <td>79.000</td>\n",
              "      <td>1900.000</td>\n",
              "      <td>Yarra</td>\n",
              "      <td>-37.808</td>\n",
              "      <td>144.993</td>\n",
              "      <td>Northern Metropolitan</td>\n",
              "      <td>4019.000</td>\n",
              "    </tr>\n",
              "    <tr>\n",
              "      <th>2</th>\n",
              "      <td>Abbotsford</td>\n",
              "      <td>5 Charles St</td>\n",
              "      <td>3</td>\n",
              "      <td>h</td>\n",
              "      <td>1465000.000</td>\n",
              "      <td>SP</td>\n",
              "      <td>Biggin</td>\n",
              "      <td>4/03/2017</td>\n",
              "      <td>2.500</td>\n",
              "      <td>3067.000</td>\n",
              "      <td>3.000</td>\n",
              "      <td>2.000</td>\n",
              "      <td>0.000</td>\n",
              "      <td>134.000</td>\n",
              "      <td>150.000</td>\n",
              "      <td>1900.000</td>\n",
              "      <td>Yarra</td>\n",
              "      <td>-37.809</td>\n",
              "      <td>144.994</td>\n",
              "      <td>Northern Metropolitan</td>\n",
              "      <td>4019.000</td>\n",
              "    </tr>\n",
              "    <tr>\n",
              "      <th>3</th>\n",
              "      <td>Abbotsford</td>\n",
              "      <td>40 Federation La</td>\n",
              "      <td>3</td>\n",
              "      <td>h</td>\n",
              "      <td>850000.000</td>\n",
              "      <td>PI</td>\n",
              "      <td>Biggin</td>\n",
              "      <td>4/03/2017</td>\n",
              "      <td>2.500</td>\n",
              "      <td>3067.000</td>\n",
              "      <td>3.000</td>\n",
              "      <td>2.000</td>\n",
              "      <td>1.000</td>\n",
              "      <td>94.000</td>\n",
              "      <td>NaN</td>\n",
              "      <td>NaN</td>\n",
              "      <td>Yarra</td>\n",
              "      <td>-37.797</td>\n",
              "      <td>144.997</td>\n",
              "      <td>Northern Metropolitan</td>\n",
              "      <td>4019.000</td>\n",
              "    </tr>\n",
              "    <tr>\n",
              "      <th>4</th>\n",
              "      <td>Abbotsford</td>\n",
              "      <td>55a Park St</td>\n",
              "      <td>4</td>\n",
              "      <td>h</td>\n",
              "      <td>1600000.000</td>\n",
              "      <td>VB</td>\n",
              "      <td>Nelson</td>\n",
              "      <td>4/06/2016</td>\n",
              "      <td>2.500</td>\n",
              "      <td>3067.000</td>\n",
              "      <td>3.000</td>\n",
              "      <td>1.000</td>\n",
              "      <td>2.000</td>\n",
              "      <td>120.000</td>\n",
              "      <td>142.000</td>\n",
              "      <td>2014.000</td>\n",
              "      <td>Yarra</td>\n",
              "      <td>-37.807</td>\n",
              "      <td>144.994</td>\n",
              "      <td>Northern Metropolitan</td>\n",
              "      <td>4019.000</td>\n",
              "    </tr>\n",
              "  </tbody>\n",
              "</table>\n",
              "</div>\n",
              "    <div class=\"colab-df-buttons\">\n",
              "\n",
              "  <div class=\"colab-df-container\">\n",
              "    <button class=\"colab-df-convert\" onclick=\"convertToInteractive('df-b4dd1d81-7e57-4435-9f20-e5853758f542')\"\n",
              "            title=\"Convert this dataframe to an interactive table.\"\n",
              "            style=\"display:none;\">\n",
              "\n",
              "  <svg xmlns=\"http://www.w3.org/2000/svg\" height=\"24px\" viewBox=\"0 -960 960 960\">\n",
              "    <path d=\"M120-120v-720h720v720H120Zm60-500h600v-160H180v160Zm220 220h160v-160H400v160Zm0 220h160v-160H400v160ZM180-400h160v-160H180v160Zm440 0h160v-160H620v160ZM180-180h160v-160H180v160Zm440 0h160v-160H620v160Z\"/>\n",
              "  </svg>\n",
              "    </button>\n",
              "\n",
              "  <style>\n",
              "    .colab-df-container {\n",
              "      display:flex;\n",
              "      gap: 12px;\n",
              "    }\n",
              "\n",
              "    .colab-df-convert {\n",
              "      background-color: #E8F0FE;\n",
              "      border: none;\n",
              "      border-radius: 50%;\n",
              "      cursor: pointer;\n",
              "      display: none;\n",
              "      fill: #1967D2;\n",
              "      height: 32px;\n",
              "      padding: 0 0 0 0;\n",
              "      width: 32px;\n",
              "    }\n",
              "\n",
              "    .colab-df-convert:hover {\n",
              "      background-color: #E2EBFA;\n",
              "      box-shadow: 0px 1px 2px rgba(60, 64, 67, 0.3), 0px 1px 3px 1px rgba(60, 64, 67, 0.15);\n",
              "      fill: #174EA6;\n",
              "    }\n",
              "\n",
              "    .colab-df-buttons div {\n",
              "      margin-bottom: 4px;\n",
              "    }\n",
              "\n",
              "    [theme=dark] .colab-df-convert {\n",
              "      background-color: #3B4455;\n",
              "      fill: #D2E3FC;\n",
              "    }\n",
              "\n",
              "    [theme=dark] .colab-df-convert:hover {\n",
              "      background-color: #434B5C;\n",
              "      box-shadow: 0px 1px 3px 1px rgba(0, 0, 0, 0.15);\n",
              "      filter: drop-shadow(0px 1px 2px rgba(0, 0, 0, 0.3));\n",
              "      fill: #FFFFFF;\n",
              "    }\n",
              "  </style>\n",
              "\n",
              "    <script>\n",
              "      const buttonEl =\n",
              "        document.querySelector('#df-b4dd1d81-7e57-4435-9f20-e5853758f542 button.colab-df-convert');\n",
              "      buttonEl.style.display =\n",
              "        google.colab.kernel.accessAllowed ? 'block' : 'none';\n",
              "\n",
              "      async function convertToInteractive(key) {\n",
              "        const element = document.querySelector('#df-b4dd1d81-7e57-4435-9f20-e5853758f542');\n",
              "        const dataTable =\n",
              "          await google.colab.kernel.invokeFunction('convertToInteractive',\n",
              "                                                    [key], {});\n",
              "        if (!dataTable) return;\n",
              "\n",
              "        const docLinkHtml = 'Like what you see? Visit the ' +\n",
              "          '<a target=\"_blank\" href=https://colab.research.google.com/notebooks/data_table.ipynb>data table notebook</a>'\n",
              "          + ' to learn more about interactive tables.';\n",
              "        element.innerHTML = '';\n",
              "        dataTable['output_type'] = 'display_data';\n",
              "        await google.colab.output.renderOutput(dataTable, element);\n",
              "        const docLink = document.createElement('div');\n",
              "        docLink.innerHTML = docLinkHtml;\n",
              "        element.appendChild(docLink);\n",
              "      }\n",
              "    </script>\n",
              "  </div>\n",
              "\n",
              "\n",
              "<div id=\"df-f8a56f85-1de3-4b4d-b199-49913f1c670f\">\n",
              "  <button class=\"colab-df-quickchart\" onclick=\"quickchart('df-f8a56f85-1de3-4b4d-b199-49913f1c670f')\"\n",
              "            title=\"Suggest charts\"\n",
              "            style=\"display:none;\">\n",
              "\n",
              "<svg xmlns=\"http://www.w3.org/2000/svg\" height=\"24px\"viewBox=\"0 0 24 24\"\n",
              "     width=\"24px\">\n",
              "    <g>\n",
              "        <path d=\"M19 3H5c-1.1 0-2 .9-2 2v14c0 1.1.9 2 2 2h14c1.1 0 2-.9 2-2V5c0-1.1-.9-2-2-2zM9 17H7v-7h2v7zm4 0h-2V7h2v10zm4 0h-2v-4h2v4z\"/>\n",
              "    </g>\n",
              "</svg>\n",
              "  </button>\n",
              "\n",
              "<style>\n",
              "  .colab-df-quickchart {\n",
              "      --bg-color: #E8F0FE;\n",
              "      --fill-color: #1967D2;\n",
              "      --hover-bg-color: #E2EBFA;\n",
              "      --hover-fill-color: #174EA6;\n",
              "      --disabled-fill-color: #AAA;\n",
              "      --disabled-bg-color: #DDD;\n",
              "  }\n",
              "\n",
              "  [theme=dark] .colab-df-quickchart {\n",
              "      --bg-color: #3B4455;\n",
              "      --fill-color: #D2E3FC;\n",
              "      --hover-bg-color: #434B5C;\n",
              "      --hover-fill-color: #FFFFFF;\n",
              "      --disabled-bg-color: #3B4455;\n",
              "      --disabled-fill-color: #666;\n",
              "  }\n",
              "\n",
              "  .colab-df-quickchart {\n",
              "    background-color: var(--bg-color);\n",
              "    border: none;\n",
              "    border-radius: 50%;\n",
              "    cursor: pointer;\n",
              "    display: none;\n",
              "    fill: var(--fill-color);\n",
              "    height: 32px;\n",
              "    padding: 0;\n",
              "    width: 32px;\n",
              "  }\n",
              "\n",
              "  .colab-df-quickchart:hover {\n",
              "    background-color: var(--hover-bg-color);\n",
              "    box-shadow: 0 1px 2px rgba(60, 64, 67, 0.3), 0 1px 3px 1px rgba(60, 64, 67, 0.15);\n",
              "    fill: var(--button-hover-fill-color);\n",
              "  }\n",
              "\n",
              "  .colab-df-quickchart-complete:disabled,\n",
              "  .colab-df-quickchart-complete:disabled:hover {\n",
              "    background-color: var(--disabled-bg-color);\n",
              "    fill: var(--disabled-fill-color);\n",
              "    box-shadow: none;\n",
              "  }\n",
              "\n",
              "  .colab-df-spinner {\n",
              "    border: 2px solid var(--fill-color);\n",
              "    border-color: transparent;\n",
              "    border-bottom-color: var(--fill-color);\n",
              "    animation:\n",
              "      spin 1s steps(1) infinite;\n",
              "  }\n",
              "\n",
              "  @keyframes spin {\n",
              "    0% {\n",
              "      border-color: transparent;\n",
              "      border-bottom-color: var(--fill-color);\n",
              "      border-left-color: var(--fill-color);\n",
              "    }\n",
              "    20% {\n",
              "      border-color: transparent;\n",
              "      border-left-color: var(--fill-color);\n",
              "      border-top-color: var(--fill-color);\n",
              "    }\n",
              "    30% {\n",
              "      border-color: transparent;\n",
              "      border-left-color: var(--fill-color);\n",
              "      border-top-color: var(--fill-color);\n",
              "      border-right-color: var(--fill-color);\n",
              "    }\n",
              "    40% {\n",
              "      border-color: transparent;\n",
              "      border-right-color: var(--fill-color);\n",
              "      border-top-color: var(--fill-color);\n",
              "    }\n",
              "    60% {\n",
              "      border-color: transparent;\n",
              "      border-right-color: var(--fill-color);\n",
              "    }\n",
              "    80% {\n",
              "      border-color: transparent;\n",
              "      border-right-color: var(--fill-color);\n",
              "      border-bottom-color: var(--fill-color);\n",
              "    }\n",
              "    90% {\n",
              "      border-color: transparent;\n",
              "      border-bottom-color: var(--fill-color);\n",
              "    }\n",
              "  }\n",
              "</style>\n",
              "\n",
              "  <script>\n",
              "    async function quickchart(key) {\n",
              "      const quickchartButtonEl =\n",
              "        document.querySelector('#' + key + ' button');\n",
              "      quickchartButtonEl.disabled = true;  // To prevent multiple clicks.\n",
              "      quickchartButtonEl.classList.add('colab-df-spinner');\n",
              "      try {\n",
              "        const charts = await google.colab.kernel.invokeFunction(\n",
              "            'suggestCharts', [key], {});\n",
              "      } catch (error) {\n",
              "        console.error('Error during call to suggestCharts:', error);\n",
              "      }\n",
              "      quickchartButtonEl.classList.remove('colab-df-spinner');\n",
              "      quickchartButtonEl.classList.add('colab-df-quickchart-complete');\n",
              "    }\n",
              "    (() => {\n",
              "      let quickchartButtonEl =\n",
              "        document.querySelector('#df-f8a56f85-1de3-4b4d-b199-49913f1c670f button');\n",
              "      quickchartButtonEl.style.display =\n",
              "        google.colab.kernel.accessAllowed ? 'block' : 'none';\n",
              "    })();\n",
              "  </script>\n",
              "</div>\n",
              "    </div>\n",
              "  </div>\n"
            ]
          },
          "metadata": {},
          "execution_count": 10
        }
      ]
    },
    {
      "cell_type": "code",
      "source": [
        "# Menampilkan jumlah baris dan kolom\n",
        "df_melbourne.shape"
      ],
      "metadata": {
        "colab": {
          "base_uri": "https://localhost:8080/"
        },
        "id": "tstC02duazKy",
        "outputId": "6c9e6216-840e-4c2a-eea0-3421cdeed94c"
      },
      "execution_count": null,
      "outputs": [
        {
          "output_type": "execute_result",
          "data": {
            "text/plain": [
              "(13580, 21)"
            ]
          },
          "metadata": {},
          "execution_count": 11
        }
      ]
    },
    {
      "cell_type": "markdown",
      "source": [
        "##### Data yang diberikan merupakan data transaksi properti di Melbourne, yang mencakup informasi terkait properti seperti alamat, tipe properti, lokasi (suburb), cara penjualan, jumlah kamar, harga, agen real estate yang terlibat, tanggal penjualan, dan jarak properti tersebut dari pusat bisnis kota (CBD). Data tersebut terdiri dari 13580 baris dan 21 kolom."
      ],
      "metadata": {
        "id": "zAKbO_o1w7PJ"
      }
    },
    {
      "cell_type": "code",
      "source": [
        "# Menampilkan nama-nama kolom dalam dataset\n",
        "df_melbourne.columns"
      ],
      "metadata": {
        "colab": {
          "base_uri": "https://localhost:8080/"
        },
        "id": "ucnOIPBVa2Tw",
        "outputId": "a59049d0-569d-4bf0-d7ee-8059f91d59ad"
      },
      "execution_count": null,
      "outputs": [
        {
          "output_type": "execute_result",
          "data": {
            "text/plain": [
              "Index(['Suburb', 'Address', 'Rooms', 'Type', 'Price', 'Method', 'SellerG',\n",
              "       'Date', 'Distance', 'Postcode', 'Bedroom2', 'Bathroom', 'Car',\n",
              "       'Landsize', 'BuildingArea', 'YearBuilt', 'CouncilArea', 'Lattitude',\n",
              "       'Longtitude', 'Regionname', 'Propertycount'],\n",
              "      dtype='object')"
            ]
          },
          "metadata": {},
          "execution_count": 12
        }
      ]
    },
    {
      "cell_type": "code",
      "source": [
        "# Menampilkan informasi ringkas tentang dataset\n",
        "df_melbourne.info()"
      ],
      "metadata": {
        "colab": {
          "base_uri": "https://localhost:8080/"
        },
        "id": "TvRmOoebaswl",
        "outputId": "b68b54f1-4ca9-4511-d83d-d48edd64c107"
      },
      "execution_count": null,
      "outputs": [
        {
          "output_type": "stream",
          "name": "stdout",
          "text": [
            "<class 'pandas.core.frame.DataFrame'>\n",
            "RangeIndex: 13580 entries, 0 to 13579\n",
            "Data columns (total 21 columns):\n",
            " #   Column         Non-Null Count  Dtype  \n",
            "---  ------         --------------  -----  \n",
            " 0   Suburb         13580 non-null  object \n",
            " 1   Address        13580 non-null  object \n",
            " 2   Rooms          13580 non-null  int64  \n",
            " 3   Type           13580 non-null  object \n",
            " 4   Price          13580 non-null  float64\n",
            " 5   Method         13580 non-null  object \n",
            " 6   SellerG        13580 non-null  object \n",
            " 7   Date           13580 non-null  object \n",
            " 8   Distance       13580 non-null  float64\n",
            " 9   Postcode       13580 non-null  float64\n",
            " 10  Bedroom2       13580 non-null  float64\n",
            " 11  Bathroom       13580 non-null  float64\n",
            " 12  Car            13518 non-null  float64\n",
            " 13  Landsize       13580 non-null  float64\n",
            " 14  BuildingArea   7130 non-null   float64\n",
            " 15  YearBuilt      8205 non-null   float64\n",
            " 16  CouncilArea    12211 non-null  object \n",
            " 17  Lattitude      13580 non-null  float64\n",
            " 18  Longtitude     13580 non-null  float64\n",
            " 19  Regionname     13580 non-null  object \n",
            " 20  Propertycount  13580 non-null  float64\n",
            "dtypes: float64(12), int64(1), object(8)\n",
            "memory usage: 2.2+ MB\n"
          ]
        }
      ]
    },
    {
      "cell_type": "markdown",
      "source": [
        "##### Berdasarkan output di atas, dapat dilihat bahwa ada beberapa kolom yang missing value dan tipe datanya tidak sesuai, yaitu kolom Date yang tipe datanya tidak sesuai dimana tipe data yang seharusnya adalah Datetime."
      ],
      "metadata": {
        "id": "nNYwzreWyyYT"
      }
    },
    {
      "cell_type": "code",
      "source": [
        "# Menghitung jumlah nilai yang hilang (missing values) dalam setiap kolom dataset\n",
        "df_melbourne.isnull().sum()"
      ],
      "metadata": {
        "colab": {
          "base_uri": "https://localhost:8080/"
        },
        "id": "BzPLxAUYa472",
        "outputId": "2a99f8b9-4c07-4fe3-859b-855d2d7e5165"
      },
      "execution_count": null,
      "outputs": [
        {
          "output_type": "execute_result",
          "data": {
            "text/plain": [
              "Suburb              0\n",
              "Address             0\n",
              "Rooms               0\n",
              "Type                0\n",
              "Price               0\n",
              "Method              0\n",
              "SellerG             0\n",
              "Date                0\n",
              "Distance            0\n",
              "Postcode            0\n",
              "Bedroom2            0\n",
              "Bathroom            0\n",
              "Car                62\n",
              "Landsize            0\n",
              "BuildingArea     6450\n",
              "YearBuilt        5375\n",
              "CouncilArea      1369\n",
              "Lattitude           0\n",
              "Longtitude          0\n",
              "Regionname          0\n",
              "Propertycount       0\n",
              "dtype: int64"
            ]
          },
          "metadata": {},
          "execution_count": 14
        }
      ]
    },
    {
      "cell_type": "markdown",
      "source": [
        "##### Output diatas memperlihatkan ada beberapa kolom yang terdapat missing value yaitu Car, BuildingArea, YearBuilt, dan CouncilArea."
      ],
      "metadata": {
        "id": "e91FoRP_zvQV"
      }
    },
    {
      "cell_type": "code",
      "source": [
        "# Menghitung jumlah baris yang merupakan duplikat dari baris lainnya dalam dataset\n",
        "df_melbourne.duplicated().sum()"
      ],
      "metadata": {
        "colab": {
          "base_uri": "https://localhost:8080/"
        },
        "id": "HM_wq1LOa-8r",
        "outputId": "cff5deb4-9c7c-44cd-9040-eba869c00ea1"
      },
      "execution_count": null,
      "outputs": [
        {
          "output_type": "execute_result",
          "data": {
            "text/plain": [
              "0"
            ]
          },
          "metadata": {},
          "execution_count": 15
        }
      ]
    },
    {
      "cell_type": "markdown",
      "source": [
        "##### Output diatas memperlihatkan bahwa tidak ada duplikasi data."
      ],
      "metadata": {
        "id": "9GeP6Ekc0lOg"
      }
    },
    {
      "cell_type": "markdown",
      "source": [
        "#Data Type Transformation"
      ],
      "metadata": {
        "id": "UAx6fchKYptG"
      }
    },
    {
      "cell_type": "code",
      "source": [
        "#Mengubah data type kolom yg tipe datanya belum sesuai\n",
        "df_melbourne['Date'] = pd.to_datetime(df_melbourne['Date'])"
      ],
      "metadata": {
        "colab": {
          "base_uri": "https://localhost:8080/"
        },
        "id": "LsGq9-o8n2uV",
        "outputId": "f986449f-05d0-4415-bd7a-ca0f88991451"
      },
      "execution_count": null,
      "outputs": [
        {
          "output_type": "stream",
          "name": "stderr",
          "text": [
            "<ipython-input-16-b358229c23c3>:2: UserWarning: Parsing dates in DD/MM/YYYY format when dayfirst=False (the default) was specified. This may lead to inconsistently parsed dates! Specify a format to ensure consistent parsing.\n",
            "  df_melbourne['Date'] = pd.to_datetime(df_melbourne['Date'])\n"
          ]
        }
      ]
    },
    {
      "cell_type": "markdown",
      "source": [
        "Data type pada kolom date masih belum sesuai karena type datanya berupa float, sehingga harus dirubah pada type datetime"
      ],
      "metadata": {
        "id": "hJ1kg75ooKs_"
      }
    },
    {
      "cell_type": "code",
      "source": [
        "df_melbourne[['Rooms','Postcode','Bedroom2','Bathroom','Propertycount','Price']]=df_melbourne[['Rooms','Postcode','Bedroom2','Bathroom','Propertycount','Price']].astype(int)"
      ],
      "metadata": {
        "id": "MH2MzmYJnlGB"
      },
      "execution_count": null,
      "outputs": []
    },
    {
      "cell_type": "markdown",
      "source": [
        "Data type pada kolom-kolom di atas perlu dirubah ke integer karena tidak ada yang memuat koma"
      ],
      "metadata": {
        "id": "DgFnYNRfo-s5"
      }
    },
    {
      "cell_type": "code",
      "source": [
        "df_melbourne.info()"
      ],
      "metadata": {
        "colab": {
          "base_uri": "https://localhost:8080/"
        },
        "id": "nf7IXeL5pgAp",
        "outputId": "33128919-70fd-4a75-eb40-9d42d75888a9"
      },
      "execution_count": null,
      "outputs": [
        {
          "output_type": "stream",
          "name": "stdout",
          "text": [
            "<class 'pandas.core.frame.DataFrame'>\n",
            "RangeIndex: 13580 entries, 0 to 13579\n",
            "Data columns (total 21 columns):\n",
            " #   Column         Non-Null Count  Dtype         \n",
            "---  ------         --------------  -----         \n",
            " 0   Suburb         13580 non-null  object        \n",
            " 1   Address        13580 non-null  object        \n",
            " 2   Rooms          13580 non-null  int64         \n",
            " 3   Type           13580 non-null  object        \n",
            " 4   Price          13580 non-null  int64         \n",
            " 5   Method         13580 non-null  object        \n",
            " 6   SellerG        13580 non-null  object        \n",
            " 7   Date           13580 non-null  datetime64[ns]\n",
            " 8   Distance       13580 non-null  float64       \n",
            " 9   Postcode       13580 non-null  int64         \n",
            " 10  Bedroom2       13580 non-null  int64         \n",
            " 11  Bathroom       13580 non-null  int64         \n",
            " 12  Car            13518 non-null  float64       \n",
            " 13  Landsize       13580 non-null  float64       \n",
            " 14  BuildingArea   7130 non-null   float64       \n",
            " 15  YearBuilt      8205 non-null   float64       \n",
            " 16  CouncilArea    12211 non-null  object        \n",
            " 17  Lattitude      13580 non-null  float64       \n",
            " 18  Longtitude     13580 non-null  float64       \n",
            " 19  Regionname     13580 non-null  object        \n",
            " 20  Propertycount  13580 non-null  int64         \n",
            "dtypes: datetime64[ns](1), float64(7), int64(6), object(7)\n",
            "memory usage: 2.2+ MB\n"
          ]
        }
      ]
    },
    {
      "cell_type": "markdown",
      "source": [
        "Output di atas menunjukkan tipe data kolom - kolom yang sudah sesuai"
      ],
      "metadata": {
        "id": "C0l8aTS3pudK"
      }
    },
    {
      "cell_type": "markdown",
      "source": [
        "#Missing Values Handling"
      ],
      "metadata": {
        "id": "vMsMbO4uYpwz"
      }
    },
    {
      "cell_type": "markdown",
      "source": [
        "##### untuk handle missing value pada dataset melbourne_housing ini tidak ada penghapusan kolom karena dikhawatirkan dapat mengganggu kolom lain dalam menentukan sebuah analisis kedepannya dan treatment untuk missing value menggunakan beberapa metode yaitu mean,median dan modus tergantung pada kolom yang memiliki missing value"
      ],
      "metadata": {
        "id": "MuZXGlBTwa8C"
      }
    },
    {
      "cell_type": "code",
      "source": [
        "df_melbourne.isnull().any()"
      ],
      "metadata": {
        "id": "CVajccYyhNNR",
        "colab": {
          "base_uri": "https://localhost:8080/"
        },
        "outputId": "7d54316f-9a91-46ca-9726-95976f4b93f2"
      },
      "execution_count": null,
      "outputs": [
        {
          "output_type": "execute_result",
          "data": {
            "text/plain": [
              "Suburb           False\n",
              "Address          False\n",
              "Rooms            False\n",
              "Type             False\n",
              "Price            False\n",
              "Method           False\n",
              "SellerG          False\n",
              "Date             False\n",
              "Distance         False\n",
              "Postcode         False\n",
              "Bedroom2         False\n",
              "Bathroom         False\n",
              "Car               True\n",
              "Landsize         False\n",
              "BuildingArea      True\n",
              "YearBuilt         True\n",
              "CouncilArea       True\n",
              "Lattitude        False\n",
              "Longtitude       False\n",
              "Regionname       False\n",
              "Propertycount    False\n",
              "dtype: bool"
            ]
          },
          "metadata": {},
          "execution_count": 19
        }
      ]
    },
    {
      "cell_type": "markdown",
      "source": [
        "##### untuk melihat apakah ada kolom yang missing value perintah diatas akan menunjukkan kolom mana saja yang missing value"
      ],
      "metadata": {
        "id": "IaM6qQNDhQF6"
      }
    },
    {
      "cell_type": "code",
      "source": [
        "updated_df = df_melbourne\n",
        "updated_df['Car']=updated_df['Car'].fillna(updated_df['Car'].median())\n",
        "updated_df.info()"
      ],
      "metadata": {
        "id": "Xvwi-3Hunluf",
        "colab": {
          "base_uri": "https://localhost:8080/"
        },
        "outputId": "cded4789-7b7c-4e86-ecad-f570f12ceb4b"
      },
      "execution_count": null,
      "outputs": [
        {
          "output_type": "stream",
          "name": "stdout",
          "text": [
            "<class 'pandas.core.frame.DataFrame'>\n",
            "RangeIndex: 13580 entries, 0 to 13579\n",
            "Data columns (total 21 columns):\n",
            " #   Column         Non-Null Count  Dtype         \n",
            "---  ------         --------------  -----         \n",
            " 0   Suburb         13580 non-null  object        \n",
            " 1   Address        13580 non-null  object        \n",
            " 2   Rooms          13580 non-null  int64         \n",
            " 3   Type           13580 non-null  object        \n",
            " 4   Price          13580 non-null  int64         \n",
            " 5   Method         13580 non-null  object        \n",
            " 6   SellerG        13580 non-null  object        \n",
            " 7   Date           13580 non-null  datetime64[ns]\n",
            " 8   Distance       13580 non-null  float64       \n",
            " 9   Postcode       13580 non-null  int64         \n",
            " 10  Bedroom2       13580 non-null  int64         \n",
            " 11  Bathroom       13580 non-null  int64         \n",
            " 12  Car            13580 non-null  float64       \n",
            " 13  Landsize       13580 non-null  float64       \n",
            " 14  BuildingArea   7130 non-null   float64       \n",
            " 15  YearBuilt      8205 non-null   float64       \n",
            " 16  CouncilArea    12211 non-null  object        \n",
            " 17  Lattitude      13580 non-null  float64       \n",
            " 18  Longtitude     13580 non-null  float64       \n",
            " 19  Regionname     13580 non-null  object        \n",
            " 20  Propertycount  13580 non-null  int64         \n",
            "dtypes: datetime64[ns](1), float64(7), int64(6), object(7)\n",
            "memory usage: 2.2+ MB\n"
          ]
        }
      ]
    },
    {
      "cell_type": "markdown",
      "source": [
        "##### untuk handle missing value dikolom car,diputuskan untuk menggunakan median karena dikolom car menunjukkan jumlah tempat parkir mobil di masing masing rumah,jika menggunakan mean maka hasil dari perhitungan nilai rata rata pada kolom car akan menghasilkan nilai berkoma,dan kenapa tidak menggunakan modus karena tipe data dari kolom car merupakan numeric"
      ],
      "metadata": {
        "id": "Kr6PF3vBwXvf"
      }
    },
    {
      "cell_type": "code",
      "source": [
        "updated_df = df_melbourne\n",
        "updated_df['BuildingArea']=updated_df['BuildingArea'].fillna(updated_df['BuildingArea'].mean())\n",
        "updated_df.info()\n"
      ],
      "metadata": {
        "id": "7xq2gbhohJJx",
        "colab": {
          "base_uri": "https://localhost:8080/"
        },
        "outputId": "4e481324-fb36-476c-e05b-429c83a842d9"
      },
      "execution_count": null,
      "outputs": [
        {
          "output_type": "stream",
          "name": "stdout",
          "text": [
            "<class 'pandas.core.frame.DataFrame'>\n",
            "RangeIndex: 13580 entries, 0 to 13579\n",
            "Data columns (total 21 columns):\n",
            " #   Column         Non-Null Count  Dtype         \n",
            "---  ------         --------------  -----         \n",
            " 0   Suburb         13580 non-null  object        \n",
            " 1   Address        13580 non-null  object        \n",
            " 2   Rooms          13580 non-null  int64         \n",
            " 3   Type           13580 non-null  object        \n",
            " 4   Price          13580 non-null  int64         \n",
            " 5   Method         13580 non-null  object        \n",
            " 6   SellerG        13580 non-null  object        \n",
            " 7   Date           13580 non-null  datetime64[ns]\n",
            " 8   Distance       13580 non-null  float64       \n",
            " 9   Postcode       13580 non-null  int64         \n",
            " 10  Bedroom2       13580 non-null  int64         \n",
            " 11  Bathroom       13580 non-null  int64         \n",
            " 12  Car            13580 non-null  float64       \n",
            " 13  Landsize       13580 non-null  float64       \n",
            " 14  BuildingArea   13580 non-null  float64       \n",
            " 15  YearBuilt      8205 non-null   float64       \n",
            " 16  CouncilArea    12211 non-null  object        \n",
            " 17  Lattitude      13580 non-null  float64       \n",
            " 18  Longtitude     13580 non-null  float64       \n",
            " 19  Regionname     13580 non-null  object        \n",
            " 20  Propertycount  13580 non-null  int64         \n",
            "dtypes: datetime64[ns](1), float64(7), int64(6), object(7)\n",
            "memory usage: 2.2+ MB\n"
          ]
        }
      ]
    },
    {
      "cell_type": "markdown",
      "source": [
        "##### untuk value yang missing pada kolom building area diisi dengan nilai rata rata dari kolom building area karena tipe data kolom building area adalah float64 dimana mean merupakan salah satu metode yang dapat diaplikasikan untuk mengisi nilai yang hilang"
      ],
      "metadata": {
        "id": "06IzXF-kw3x7"
      }
    },
    {
      "cell_type": "code",
      "source": [
        "updated_df = df_melbourne\n",
        "updated_df['YearBuilt']=updated_df['YearBuilt'].fillna(updated_df['YearBuilt'].median())\n",
        "updated_df.info()"
      ],
      "metadata": {
        "id": "Tjpl0jd-w5zJ",
        "colab": {
          "base_uri": "https://localhost:8080/"
        },
        "outputId": "ad5323ba-ee72-4b87-aa75-2a4b4b018d67"
      },
      "execution_count": null,
      "outputs": [
        {
          "output_type": "stream",
          "name": "stdout",
          "text": [
            "<class 'pandas.core.frame.DataFrame'>\n",
            "RangeIndex: 13580 entries, 0 to 13579\n",
            "Data columns (total 21 columns):\n",
            " #   Column         Non-Null Count  Dtype         \n",
            "---  ------         --------------  -----         \n",
            " 0   Suburb         13580 non-null  object        \n",
            " 1   Address        13580 non-null  object        \n",
            " 2   Rooms          13580 non-null  int64         \n",
            " 3   Type           13580 non-null  object        \n",
            " 4   Price          13580 non-null  int64         \n",
            " 5   Method         13580 non-null  object        \n",
            " 6   SellerG        13580 non-null  object        \n",
            " 7   Date           13580 non-null  datetime64[ns]\n",
            " 8   Distance       13580 non-null  float64       \n",
            " 9   Postcode       13580 non-null  int64         \n",
            " 10  Bedroom2       13580 non-null  int64         \n",
            " 11  Bathroom       13580 non-null  int64         \n",
            " 12  Car            13580 non-null  float64       \n",
            " 13  Landsize       13580 non-null  float64       \n",
            " 14  BuildingArea   13580 non-null  float64       \n",
            " 15  YearBuilt      13580 non-null  float64       \n",
            " 16  CouncilArea    12211 non-null  object        \n",
            " 17  Lattitude      13580 non-null  float64       \n",
            " 18  Longtitude     13580 non-null  float64       \n",
            " 19  Regionname     13580 non-null  object        \n",
            " 20  Propertycount  13580 non-null  int64         \n",
            "dtypes: datetime64[ns](1), float64(7), int64(6), object(7)\n",
            "memory usage: 2.2+ MB\n"
          ]
        }
      ]
    },
    {
      "cell_type": "markdown",
      "source": [
        "##### sama seperti kolom car,treatment untuk kolom year built adalah mengisi nilai yang hilang dengan nilai median yang ada di kolom year built,karena jika menggunakan mean maka hasilnya akan berkoma dan tidak cocok dengan data yang sudah ada sebelumnya"
      ],
      "metadata": {
        "id": "Wyu8qhURw7uh"
      }
    },
    {
      "cell_type": "code",
      "source": [
        "council = df_melbourne['CouncilArea'].mode().values[0]\n",
        "df_melbourne['CouncilArea'].fillna(council, inplace=True)"
      ],
      "metadata": {
        "id": "rKOb7SLyxI8h"
      },
      "execution_count": null,
      "outputs": []
    },
    {
      "cell_type": "markdown",
      "source": [
        "##### treatment untuk missing value kolom council area menggunakan nilai yang sering muncul pada kolom council area karena tipe data dari kolom council area merupakan categorikal"
      ],
      "metadata": {
        "id": "1Qq90fHFxKvZ"
      }
    },
    {
      "cell_type": "markdown",
      "source": [
        "#Detecting and Handling Outliers"
      ],
      "metadata": {
        "id": "dKt-K-lYYp19"
      }
    },
    {
      "cell_type": "code",
      "source": [
        "df_melbourne.describe()"
      ],
      "metadata": {
        "id": "YC1oYge0ZG8I",
        "colab": {
          "base_uri": "https://localhost:8080/",
          "height": 320
        },
        "outputId": "57b61f53-38c9-4016-ab30-c330d9783da1"
      },
      "execution_count": null,
      "outputs": [
        {
          "output_type": "execute_result",
          "data": {
            "text/plain": [
              "          Rooms       Price  Distance  Postcode  Bedroom2  Bathroom       Car  \\\n",
              "count 13580.000   13580.000 13580.000 13580.000 13580.000 13580.000 13580.000   \n",
              "mean      2.938 1075684.079    10.138  3105.302     2.915     1.534     1.612   \n",
              "std       0.956  639310.724     5.869    90.677     0.966     0.692     0.961   \n",
              "min       1.000   85000.000     0.000  3000.000     0.000     0.000     0.000   \n",
              "25%       2.000  650000.000     6.100  3044.000     2.000     1.000     1.000   \n",
              "50%       3.000  903000.000     9.200  3084.000     3.000     1.000     2.000   \n",
              "75%       3.000 1330000.000    13.000  3148.000     3.000     2.000     2.000   \n",
              "max      10.000 9000000.000    48.100  3977.000    20.000     8.000    10.000   \n",
              "\n",
              "        Landsize  BuildingArea  YearBuilt  Lattitude  Longtitude  \\\n",
              "count  13580.000     13580.000  13580.000  13580.000   13580.000   \n",
              "mean     558.416       151.968   1966.788    -37.809     144.995   \n",
              "std     3990.669       392.003     29.089      0.079       0.104   \n",
              "min        0.000         0.000   1196.000    -38.183     144.432   \n",
              "25%      177.000       122.000   1960.000    -37.857     144.930   \n",
              "50%      440.000       151.968   1970.000    -37.802     145.000   \n",
              "75%      651.000       151.968   1975.000    -37.756     145.058   \n",
              "max   433014.000     44515.000   2018.000    -37.409     145.526   \n",
              "\n",
              "       Propertycount  \n",
              "count      13580.000  \n",
              "mean        7454.417  \n",
              "std         4378.582  \n",
              "min          249.000  \n",
              "25%         4380.000  \n",
              "50%         6555.000  \n",
              "75%        10331.000  \n",
              "max        21650.000  "
            ],
            "text/html": [
              "\n",
              "  <div id=\"df-b52f3412-3398-47a6-a08f-5e49320ab46c\" class=\"colab-df-container\">\n",
              "    <div>\n",
              "<style scoped>\n",
              "    .dataframe tbody tr th:only-of-type {\n",
              "        vertical-align: middle;\n",
              "    }\n",
              "\n",
              "    .dataframe tbody tr th {\n",
              "        vertical-align: top;\n",
              "    }\n",
              "\n",
              "    .dataframe thead th {\n",
              "        text-align: right;\n",
              "    }\n",
              "</style>\n",
              "<table border=\"1\" class=\"dataframe\">\n",
              "  <thead>\n",
              "    <tr style=\"text-align: right;\">\n",
              "      <th></th>\n",
              "      <th>Rooms</th>\n",
              "      <th>Price</th>\n",
              "      <th>Distance</th>\n",
              "      <th>Postcode</th>\n",
              "      <th>Bedroom2</th>\n",
              "      <th>Bathroom</th>\n",
              "      <th>Car</th>\n",
              "      <th>Landsize</th>\n",
              "      <th>BuildingArea</th>\n",
              "      <th>YearBuilt</th>\n",
              "      <th>Lattitude</th>\n",
              "      <th>Longtitude</th>\n",
              "      <th>Propertycount</th>\n",
              "    </tr>\n",
              "  </thead>\n",
              "  <tbody>\n",
              "    <tr>\n",
              "      <th>count</th>\n",
              "      <td>13580.000</td>\n",
              "      <td>13580.000</td>\n",
              "      <td>13580.000</td>\n",
              "      <td>13580.000</td>\n",
              "      <td>13580.000</td>\n",
              "      <td>13580.000</td>\n",
              "      <td>13580.000</td>\n",
              "      <td>13580.000</td>\n",
              "      <td>13580.000</td>\n",
              "      <td>13580.000</td>\n",
              "      <td>13580.000</td>\n",
              "      <td>13580.000</td>\n",
              "      <td>13580.000</td>\n",
              "    </tr>\n",
              "    <tr>\n",
              "      <th>mean</th>\n",
              "      <td>2.938</td>\n",
              "      <td>1075684.079</td>\n",
              "      <td>10.138</td>\n",
              "      <td>3105.302</td>\n",
              "      <td>2.915</td>\n",
              "      <td>1.534</td>\n",
              "      <td>1.612</td>\n",
              "      <td>558.416</td>\n",
              "      <td>151.968</td>\n",
              "      <td>1966.788</td>\n",
              "      <td>-37.809</td>\n",
              "      <td>144.995</td>\n",
              "      <td>7454.417</td>\n",
              "    </tr>\n",
              "    <tr>\n",
              "      <th>std</th>\n",
              "      <td>0.956</td>\n",
              "      <td>639310.724</td>\n",
              "      <td>5.869</td>\n",
              "      <td>90.677</td>\n",
              "      <td>0.966</td>\n",
              "      <td>0.692</td>\n",
              "      <td>0.961</td>\n",
              "      <td>3990.669</td>\n",
              "      <td>392.003</td>\n",
              "      <td>29.089</td>\n",
              "      <td>0.079</td>\n",
              "      <td>0.104</td>\n",
              "      <td>4378.582</td>\n",
              "    </tr>\n",
              "    <tr>\n",
              "      <th>min</th>\n",
              "      <td>1.000</td>\n",
              "      <td>85000.000</td>\n",
              "      <td>0.000</td>\n",
              "      <td>3000.000</td>\n",
              "      <td>0.000</td>\n",
              "      <td>0.000</td>\n",
              "      <td>0.000</td>\n",
              "      <td>0.000</td>\n",
              "      <td>0.000</td>\n",
              "      <td>1196.000</td>\n",
              "      <td>-38.183</td>\n",
              "      <td>144.432</td>\n",
              "      <td>249.000</td>\n",
              "    </tr>\n",
              "    <tr>\n",
              "      <th>25%</th>\n",
              "      <td>2.000</td>\n",
              "      <td>650000.000</td>\n",
              "      <td>6.100</td>\n",
              "      <td>3044.000</td>\n",
              "      <td>2.000</td>\n",
              "      <td>1.000</td>\n",
              "      <td>1.000</td>\n",
              "      <td>177.000</td>\n",
              "      <td>122.000</td>\n",
              "      <td>1960.000</td>\n",
              "      <td>-37.857</td>\n",
              "      <td>144.930</td>\n",
              "      <td>4380.000</td>\n",
              "    </tr>\n",
              "    <tr>\n",
              "      <th>50%</th>\n",
              "      <td>3.000</td>\n",
              "      <td>903000.000</td>\n",
              "      <td>9.200</td>\n",
              "      <td>3084.000</td>\n",
              "      <td>3.000</td>\n",
              "      <td>1.000</td>\n",
              "      <td>2.000</td>\n",
              "      <td>440.000</td>\n",
              "      <td>151.968</td>\n",
              "      <td>1970.000</td>\n",
              "      <td>-37.802</td>\n",
              "      <td>145.000</td>\n",
              "      <td>6555.000</td>\n",
              "    </tr>\n",
              "    <tr>\n",
              "      <th>75%</th>\n",
              "      <td>3.000</td>\n",
              "      <td>1330000.000</td>\n",
              "      <td>13.000</td>\n",
              "      <td>3148.000</td>\n",
              "      <td>3.000</td>\n",
              "      <td>2.000</td>\n",
              "      <td>2.000</td>\n",
              "      <td>651.000</td>\n",
              "      <td>151.968</td>\n",
              "      <td>1975.000</td>\n",
              "      <td>-37.756</td>\n",
              "      <td>145.058</td>\n",
              "      <td>10331.000</td>\n",
              "    </tr>\n",
              "    <tr>\n",
              "      <th>max</th>\n",
              "      <td>10.000</td>\n",
              "      <td>9000000.000</td>\n",
              "      <td>48.100</td>\n",
              "      <td>3977.000</td>\n",
              "      <td>20.000</td>\n",
              "      <td>8.000</td>\n",
              "      <td>10.000</td>\n",
              "      <td>433014.000</td>\n",
              "      <td>44515.000</td>\n",
              "      <td>2018.000</td>\n",
              "      <td>-37.409</td>\n",
              "      <td>145.526</td>\n",
              "      <td>21650.000</td>\n",
              "    </tr>\n",
              "  </tbody>\n",
              "</table>\n",
              "</div>\n",
              "    <div class=\"colab-df-buttons\">\n",
              "\n",
              "  <div class=\"colab-df-container\">\n",
              "    <button class=\"colab-df-convert\" onclick=\"convertToInteractive('df-b52f3412-3398-47a6-a08f-5e49320ab46c')\"\n",
              "            title=\"Convert this dataframe to an interactive table.\"\n",
              "            style=\"display:none;\">\n",
              "\n",
              "  <svg xmlns=\"http://www.w3.org/2000/svg\" height=\"24px\" viewBox=\"0 -960 960 960\">\n",
              "    <path d=\"M120-120v-720h720v720H120Zm60-500h600v-160H180v160Zm220 220h160v-160H400v160Zm0 220h160v-160H400v160ZM180-400h160v-160H180v160Zm440 0h160v-160H620v160ZM180-180h160v-160H180v160Zm440 0h160v-160H620v160Z\"/>\n",
              "  </svg>\n",
              "    </button>\n",
              "\n",
              "  <style>\n",
              "    .colab-df-container {\n",
              "      display:flex;\n",
              "      gap: 12px;\n",
              "    }\n",
              "\n",
              "    .colab-df-convert {\n",
              "      background-color: #E8F0FE;\n",
              "      border: none;\n",
              "      border-radius: 50%;\n",
              "      cursor: pointer;\n",
              "      display: none;\n",
              "      fill: #1967D2;\n",
              "      height: 32px;\n",
              "      padding: 0 0 0 0;\n",
              "      width: 32px;\n",
              "    }\n",
              "\n",
              "    .colab-df-convert:hover {\n",
              "      background-color: #E2EBFA;\n",
              "      box-shadow: 0px 1px 2px rgba(60, 64, 67, 0.3), 0px 1px 3px 1px rgba(60, 64, 67, 0.15);\n",
              "      fill: #174EA6;\n",
              "    }\n",
              "\n",
              "    .colab-df-buttons div {\n",
              "      margin-bottom: 4px;\n",
              "    }\n",
              "\n",
              "    [theme=dark] .colab-df-convert {\n",
              "      background-color: #3B4455;\n",
              "      fill: #D2E3FC;\n",
              "    }\n",
              "\n",
              "    [theme=dark] .colab-df-convert:hover {\n",
              "      background-color: #434B5C;\n",
              "      box-shadow: 0px 1px 3px 1px rgba(0, 0, 0, 0.15);\n",
              "      filter: drop-shadow(0px 1px 2px rgba(0, 0, 0, 0.3));\n",
              "      fill: #FFFFFF;\n",
              "    }\n",
              "  </style>\n",
              "\n",
              "    <script>\n",
              "      const buttonEl =\n",
              "        document.querySelector('#df-b52f3412-3398-47a6-a08f-5e49320ab46c button.colab-df-convert');\n",
              "      buttonEl.style.display =\n",
              "        google.colab.kernel.accessAllowed ? 'block' : 'none';\n",
              "\n",
              "      async function convertToInteractive(key) {\n",
              "        const element = document.querySelector('#df-b52f3412-3398-47a6-a08f-5e49320ab46c');\n",
              "        const dataTable =\n",
              "          await google.colab.kernel.invokeFunction('convertToInteractive',\n",
              "                                                    [key], {});\n",
              "        if (!dataTable) return;\n",
              "\n",
              "        const docLinkHtml = 'Like what you see? Visit the ' +\n",
              "          '<a target=\"_blank\" href=https://colab.research.google.com/notebooks/data_table.ipynb>data table notebook</a>'\n",
              "          + ' to learn more about interactive tables.';\n",
              "        element.innerHTML = '';\n",
              "        dataTable['output_type'] = 'display_data';\n",
              "        await google.colab.output.renderOutput(dataTable, element);\n",
              "        const docLink = document.createElement('div');\n",
              "        docLink.innerHTML = docLinkHtml;\n",
              "        element.appendChild(docLink);\n",
              "      }\n",
              "    </script>\n",
              "  </div>\n",
              "\n",
              "\n",
              "<div id=\"df-52849f68-ecad-459c-81dd-8666c62d8792\">\n",
              "  <button class=\"colab-df-quickchart\" onclick=\"quickchart('df-52849f68-ecad-459c-81dd-8666c62d8792')\"\n",
              "            title=\"Suggest charts\"\n",
              "            style=\"display:none;\">\n",
              "\n",
              "<svg xmlns=\"http://www.w3.org/2000/svg\" height=\"24px\"viewBox=\"0 0 24 24\"\n",
              "     width=\"24px\">\n",
              "    <g>\n",
              "        <path d=\"M19 3H5c-1.1 0-2 .9-2 2v14c0 1.1.9 2 2 2h14c1.1 0 2-.9 2-2V5c0-1.1-.9-2-2-2zM9 17H7v-7h2v7zm4 0h-2V7h2v10zm4 0h-2v-4h2v4z\"/>\n",
              "    </g>\n",
              "</svg>\n",
              "  </button>\n",
              "\n",
              "<style>\n",
              "  .colab-df-quickchart {\n",
              "      --bg-color: #E8F0FE;\n",
              "      --fill-color: #1967D2;\n",
              "      --hover-bg-color: #E2EBFA;\n",
              "      --hover-fill-color: #174EA6;\n",
              "      --disabled-fill-color: #AAA;\n",
              "      --disabled-bg-color: #DDD;\n",
              "  }\n",
              "\n",
              "  [theme=dark] .colab-df-quickchart {\n",
              "      --bg-color: #3B4455;\n",
              "      --fill-color: #D2E3FC;\n",
              "      --hover-bg-color: #434B5C;\n",
              "      --hover-fill-color: #FFFFFF;\n",
              "      --disabled-bg-color: #3B4455;\n",
              "      --disabled-fill-color: #666;\n",
              "  }\n",
              "\n",
              "  .colab-df-quickchart {\n",
              "    background-color: var(--bg-color);\n",
              "    border: none;\n",
              "    border-radius: 50%;\n",
              "    cursor: pointer;\n",
              "    display: none;\n",
              "    fill: var(--fill-color);\n",
              "    height: 32px;\n",
              "    padding: 0;\n",
              "    width: 32px;\n",
              "  }\n",
              "\n",
              "  .colab-df-quickchart:hover {\n",
              "    background-color: var(--hover-bg-color);\n",
              "    box-shadow: 0 1px 2px rgba(60, 64, 67, 0.3), 0 1px 3px 1px rgba(60, 64, 67, 0.15);\n",
              "    fill: var(--button-hover-fill-color);\n",
              "  }\n",
              "\n",
              "  .colab-df-quickchart-complete:disabled,\n",
              "  .colab-df-quickchart-complete:disabled:hover {\n",
              "    background-color: var(--disabled-bg-color);\n",
              "    fill: var(--disabled-fill-color);\n",
              "    box-shadow: none;\n",
              "  }\n",
              "\n",
              "  .colab-df-spinner {\n",
              "    border: 2px solid var(--fill-color);\n",
              "    border-color: transparent;\n",
              "    border-bottom-color: var(--fill-color);\n",
              "    animation:\n",
              "      spin 1s steps(1) infinite;\n",
              "  }\n",
              "\n",
              "  @keyframes spin {\n",
              "    0% {\n",
              "      border-color: transparent;\n",
              "      border-bottom-color: var(--fill-color);\n",
              "      border-left-color: var(--fill-color);\n",
              "    }\n",
              "    20% {\n",
              "      border-color: transparent;\n",
              "      border-left-color: var(--fill-color);\n",
              "      border-top-color: var(--fill-color);\n",
              "    }\n",
              "    30% {\n",
              "      border-color: transparent;\n",
              "      border-left-color: var(--fill-color);\n",
              "      border-top-color: var(--fill-color);\n",
              "      border-right-color: var(--fill-color);\n",
              "    }\n",
              "    40% {\n",
              "      border-color: transparent;\n",
              "      border-right-color: var(--fill-color);\n",
              "      border-top-color: var(--fill-color);\n",
              "    }\n",
              "    60% {\n",
              "      border-color: transparent;\n",
              "      border-right-color: var(--fill-color);\n",
              "    }\n",
              "    80% {\n",
              "      border-color: transparent;\n",
              "      border-right-color: var(--fill-color);\n",
              "      border-bottom-color: var(--fill-color);\n",
              "    }\n",
              "    90% {\n",
              "      border-color: transparent;\n",
              "      border-bottom-color: var(--fill-color);\n",
              "    }\n",
              "  }\n",
              "</style>\n",
              "\n",
              "  <script>\n",
              "    async function quickchart(key) {\n",
              "      const quickchartButtonEl =\n",
              "        document.querySelector('#' + key + ' button');\n",
              "      quickchartButtonEl.disabled = true;  // To prevent multiple clicks.\n",
              "      quickchartButtonEl.classList.add('colab-df-spinner');\n",
              "      try {\n",
              "        const charts = await google.colab.kernel.invokeFunction(\n",
              "            'suggestCharts', [key], {});\n",
              "      } catch (error) {\n",
              "        console.error('Error during call to suggestCharts:', error);\n",
              "      }\n",
              "      quickchartButtonEl.classList.remove('colab-df-spinner');\n",
              "      quickchartButtonEl.classList.add('colab-df-quickchart-complete');\n",
              "    }\n",
              "    (() => {\n",
              "      let quickchartButtonEl =\n",
              "        document.querySelector('#df-52849f68-ecad-459c-81dd-8666c62d8792 button');\n",
              "      quickchartButtonEl.style.display =\n",
              "        google.colab.kernel.accessAllowed ? 'block' : 'none';\n",
              "    })();\n",
              "  </script>\n",
              "</div>\n",
              "    </div>\n",
              "  </div>\n"
            ]
          },
          "metadata": {},
          "execution_count": 24
        }
      ]
    },
    {
      "cell_type": "code",
      "source": [
        "kolom_dengan_outliers = ['Price', 'Distance',]"
      ],
      "metadata": {
        "id": "RA2knVp2Ig_s"
      },
      "execution_count": null,
      "outputs": []
    },
    {
      "cell_type": "markdown",
      "source": [
        "#####Alasan mmemeriksa outlier dalam kedua kolom price dan distance dapat memberikan gambaran lebih lengkap tentang tren atau anomali dalam data dan sifat datanya yang numerik."
      ],
      "metadata": {
        "id": "SRWxIe4tJcHm"
      }
    },
    {
      "cell_type": "code",
      "source": [
        "for kolom in kolom_dengan_outliers:\n",
        "    plt.figure(figsize=(8, 5))\n",
        "    plt.boxplot(df_melbourne[kolom], vert=False)\n",
        "    plt.title(f'Boxplot of {kolom}')\n",
        "    plt.show()"
      ],
      "metadata": {
        "colab": {
          "base_uri": "https://localhost:8080/",
          "height": 937
        },
        "id": "Qc7ypLEmMVgG",
        "outputId": "4ff18e64-ebeb-4f01-8e46-b7e2b200f4f9"
      },
      "execution_count": null,
      "outputs": [
        {
          "output_type": "display_data",
          "data": {
            "text/plain": [
              "<Figure size 800x500 with 1 Axes>"
            ],
            "image/png": "[encoded data removed]"
          },
          "metadata": {}
        },
        {
          "output_type": "display_data",
          "data": {
            "text/plain": [
              "<Figure size 800x500 with 1 Axes>"
            ],
            "image/png": "[encoded data removed]"
          },
          "metadata": {}
        }
      ]
    },
    {
      "cell_type": "markdown",
      "source": [
        "####Detecting Outliers using the Z-scores"
      ],
      "metadata": {
        "id": "F5me69AbNV5W"
      }
    },
    {
      "cell_type": "code",
      "source": [
        "def detect_outliers_zscore(data, kolom):\n",
        "    outliers = []\n",
        "    thres = 3\n",
        "    mean = np.mean(kolom)\n",
        "    std = np.std(kolom)\n",
        "\n",
        "    for value in kolom:\n",
        "        z_score = (value - mean) / std\n",
        "        if np.abs(z_score) > thres:\n",
        "            outliers.append(value)\n",
        "\n",
        "    return outliers\n",
        "\n",
        "for kolom in kolom_dengan_outliers:\n",
        "  outliers = detect_outliers_zscore(df_melbourne, df_melbourne[kolom])\n",
        "  print(f'Outliers in {kolom}: {outliers}')"
      ],
      "metadata": {
        "colab": {
          "base_uri": "https://localhost:8080/"
        },
        "id": "BWAYZ3iQN6Xk",
        "outputId": "529724e7-1f1d-44bb-d624-39e4b50da73c"
      },
      "execution_count": null,
      "outputs": [
        {
          "output_type": "stream",
          "name": "stdout",
          "text": [
            "Outliers in Price: [3010000, 4735000, 3755000, 3625000, 3000000, 5525000, 3660000, 3625000, 4200000, 3512500, 3510000, 3250000, 4000000, 3180000, 3600000, 3270000, 3000000, 3400000, 3290000, 3401000, 4000000, 3020000, 3900000, 3230000, 3300000, 3250000, 3690000, 3000000, 3360000, 4000000, 4000000, 3695000, 3700000, 3775000, 4250000, 3171000, 3180000, 3320000, 4700000, 3295888, 3700000, 3900000, 3050000, 3550000, 3751000, 3105000, 3207000, 3225000, 4760000, 3400000, 3300000, 3225000, 3320000, 4350000, 3800000, 3550000, 3400000, 3145000, 3010000, 3000000, 3572000, 3310000, 4011000, 3400000, 3400000, 3730000, 3110000, 3500000, 3085000, 3860000, 3010000, 3365000, 3250000, 3200000, 3470000, 3075000, 3201000, 3325000, 5100000, 3225000, 3950000, 4250000, 3500000, 5050000, 3750000, 3120000, 4800000, 4350000, 3550000, 4850000, 6500000, 3650000, 3280000, 4005000, 3065000, 3028000, 3460000, 3800000, 4700000, 3010000, 3400000, 4240000, 4525000, 3470000, 4802500, 3120000, 3900000, 3420000, 4300000, 3850000, 3705000, 3335000, 3200000, 3020000, 3001000, 5700000, 3000000, 5046000, 4400000, 4750000, 5500000, 5500000, 4000000, 4000000, 6250000, 4500000, 4000000, 4200000, 3260000, 3270000, 3130000, 3900000, 4525000, 3520000, 3350000, 3100000, 3050000, 3210000, 3310000, 3500000, 3020000, 3850000, 5800000, 4225000, 3025000, 3550000, 5020000, 3115000, 8000000, 3725000, 3450000, 3310000, 3750000, 3600000, 3020000, 3800000, 4515000, 3160000, 3200000, 3970000, 3000000, 3475000, 4275000, 3600000, 5200000, 3250000, 3100000, 3050000, 5510000, 3335000, 4900000, 5600000, 3200000, 3050000, 3056000, 7650000, 3255000, 3175000, 3200000, 3275000, 3150000, 3001000, 3600000, 3225000, 4750000, 3399000, 3900000, 3200500, 3750000, 4100000, 3560000, 3000000, 4050000, 3190000, 3250000, 3175000, 3200000, 3400000, 4050000, 4050000, 3000000, 4200000, 3350000, 3825000, 3812000, 3300000, 3015000, 9000000, 5100000, 5500000, 4060000, 3060000, 3130000, 3000000, 3200000, 6400000, 3625000, 3778000, 5065000, 3400000, 3100000, 4000000, 3000000, 3600000, 4060000, 3000000, 3200000, 3300000, 3450000, 3080000, 3400000, 3100000]\n",
            "Outliers in Distance: [35.2, 34.7, 38.0, 36.9, 38.0, 45.9, 32.3, 45.2, 31.7, 31.7, 34.1, 34.1, 35.4, 34.7, 31.7, 31.7, 31.7, 31.2, 31.2, 31.2, 31.2, 28.8, 38.0, 36.9, 32.3, 31.7, 29.8, 31.7, 35.4, 31.7, 31.7, 35.2, 34.9, 34.9, 45.9, 32.3, 41.0, 31.7, 29.8, 35.4, 34.7, 31.7, 39.8, 35.2, 31.2, 38.0, 38.0, 38.0, 38.0, 31.7, 29.8, 29.8, 31.6, 34.1, 47.3, 47.4, 34.7, 35.4, 34.6, 31.7, 35.2, 35.2, 34.9, 38.0, 38.0, 38.0, 38.0, 33.3, 31.7, 29.8, 31.7, 35.4, 34.6, 31.7, 29.3, 37.5, 35.2, 35.2, 34.9, 34.7, 38.0, 38.0, 32.3, 33.3, 33.3, 31.7, 31.7, 29.8, 28.8, 35.4, 31.7, 31.7, 31.7, 35.2, 45.9, 31.2, 34.9, 34.7, 38.0, 38.0, 45.9, 31.7, 41.0, 31.7, 34.1, 31.2, 34.9, 28.8, 28.5, 38.0, 38.0, 45.9, 45.9, 29.8, 29.8, 29.8, 34.1, 34.1, 43.3, 47.3, 35.4, 35.4, 35.4, 35.4, 39.0, 35.2, 35.2, 31.2, 28.8, 38.0, 38.0, 31.7, 31.7, 41.0, 41.0, 29.8, 29.8, 29.8, 29.8, 31.7, 47.3, 31.7, 31.7, 31.4, 39.0, 35.2, 29.8, 31.2, 34.9, 34.7, 28.8, 28.8, 36.9, 28.5, 28.5, 28.5, 28.5, 38.0, 38.0, 38.0, 36.9, 38.0, 31.7, 41.0, 29.8, 29.8, 31.7, 35.4, 35.4, 31.7, 31.7, 31.7, 31.7, 35.5, 35.2, 38.0, 38.0, 38.0, 38.0, 31.7, 31.7, 31.7, 31.7, 31.7, 31.7, 31.7, 38.0, 38.0, 45.9, 45.9, 29.8, 35.4, 31.7, 31.7, 31.7, 34.9, 34.9, 28.8, 28.8, 38.0, 38.0, 38.0, 45.9, 32.3, 34.1, 31.7, 31.7, 31.7, 44.2, 38.0, 38.0, 29.8, 31.6, 31.7, 31.7, 35.2, 38.0, 38.0, 31.7, 31.7, 31.7, 48.1, 31.7, 31.7, 31.7, 31.7, 31.7, 34.9, 34.9, 34.9, 34.7, 38.0, 36.9, 38.0, 38.0, 38.0, 33.3, 41.0, 31.7, 29.8, 34.1, 35.4, 31.7, 31.7, 31.7, 31.7]\n"
          ]
        }
      ]
    },
    {
      "cell_type": "markdown",
      "source": [
        "####terlihat bahwa terdapat outliers pada kolom \"Distance.\"danprice karrna Outliers nilai-nilainya jauh dari nilai sebagian besar data."
      ],
      "metadata": {
        "id": "4m3t83Ohp56V"
      }
    },
    {
      "cell_type": "markdown",
      "source": [
        "####Detecting Outliers using the Inter Quantile Range(IQR)"
      ],
      "metadata": {
        "id": "QhUOLMoNOLTg"
      }
    },
    {
      "cell_type": "code",
      "source": [
        "outliers = []\n",
        "def detect_outliers_iqr(data):\n",
        "    df_melbourne = sorted(df_melbourne)\n",
        "    q1 = np.percentile(df_melbourne, 25)\n",
        "    q3 = np.percentile(df_melbourne, 75)\n",
        "    # print(q1, q3)\n",
        "    IQR = q3-q1\n",
        "    lwr_bound = q1-(1.5*IQR)\n",
        "    upr_bound = q3+(1.5*IQR)\n",
        "    # print(lwr_bound, upr_bound)\n",
        "    for i in data:\n",
        "        if (i<lwr_bound or i>upr_bound):\n",
        "            outliers.append(i)\n",
        "    return outliers# Driver code\n",
        "    outliers = detect_outliers_iqr(df_melbourne[kolom])\n",
        "print(f'Outliers in {kolom}: {outliers}')"
      ],
      "metadata": {
        "colab": {
          "base_uri": "https://localhost:8080/"
        },
        "id": "jctUREiLOUKu",
        "outputId": "2fa840b0-f495-4969-b0ee-aa64ea7136fc"
      },
      "execution_count": null,
      "outputs": [
        {
          "output_type": "stream",
          "name": "stdout",
          "text": [
            "Outliers in Distance: []\n"
          ]
        }
      ]
    },
    {
      "cell_type": "markdown",
      "source": [
        "####Dengan menggunakan IQR untuk mendeteksi outliers pada kolom seperti diatas hasilnya kosong, itu menunjukkan bahwa tidak ada data yang dianggap sebagai outliers berdasarkan metode deteksi yang digunakan diatas."
      ],
      "metadata": {
        "id": "Ut_vdZ_LTgsZ"
      }
    },
    {
      "cell_type": "code",
      "source": [
        "def handle_outliers_replace_median(data, kolom):\n",
        "    median = np.median(kolom)\n",
        "    thres = 3\n",
        "\n",
        "    for i in range(len(kolom)):\n",
        "        z_score = (kolom[i] - median) / (1.4826 * np.median(np.abs(kolom - median)))\n",
        "        if np.abs(z_score) > thres:\n",
        "            # Gantilah nilai outlier dengan median\n",
        "            kolom[i] = median\n",
        "\n",
        "# Melakukan penggantian outliers dengan median untuk setiap kolom\n",
        "for kolom in kolom_dengan_outliers:\n",
        "    handle_outliers_replace_median(df_melbourne, df_melbourne[kolom])"
      ],
      "metadata": {
        "id": "MUtqjPh4VCU_",
        "colab": {
          "base_uri": "https://localhost:8080/"
        },
        "outputId": "73220992-66b7-419d-c273-09d14c954cac"
      },
      "execution_count": null,
      "outputs": [
        {
          "output_type": "stream",
          "name": "stderr",
          "text": [
            "<ipython-input-29-44025613f896>:9: SettingWithCopyWarning: \n",
            "A value is trying to be set on a copy of a slice from a DataFrame\n",
            "\n",
            "See the caveats in the documentation: https://pandas.pydata.org/pandas-docs/stable/user_guide/indexing.html#returning-a-view-versus-a-copy\n",
            "  kolom[i] = median\n"
          ]
        }
      ]
    },
    {
      "cell_type": "code",
      "source": [
        "print(\"DataFrame After Handling Outliers:\")\n",
        "print(df_melbourne)"
      ],
      "metadata": {
        "colab": {
          "base_uri": "https://localhost:8080/"
        },
        "id": "EBQ2axJho3gX",
        "outputId": "1c5e0b3f-0261-4963-8054-9749d7053b11"
      },
      "execution_count": null,
      "outputs": [
        {
          "output_type": "stream",
          "name": "stdout",
          "text": [
            "DataFrame After Handling Outliers:\n",
            "              Suburb           Address  Rooms Type    Price Method   SellerG  \\\n",
            "0         Abbotsford      85 Turner St      2    h  1480000      S    Biggin   \n",
            "1         Abbotsford   25 Bloomburg St      2    h  1035000      S    Biggin   \n",
            "2         Abbotsford      5 Charles St      3    h  1465000     SP    Biggin   \n",
            "3         Abbotsford  40 Federation La      3    h   850000     PI    Biggin   \n",
            "4         Abbotsford       55a Park St      4    h  1600000     VB    Nelson   \n",
            "...              ...               ...    ...  ...      ...    ...       ...   \n",
            "13575  Wheelers Hill      12 Strada Cr      4    h  1245000      S     Barry   \n",
            "13576   Williamstown     77 Merrett Dr      3    h  1031000     SP  Williams   \n",
            "13577   Williamstown       83 Power St      3    h  1170000      S     Raine   \n",
            "13578   Williamstown      96 Verdon St      4    h   903000     PI   Sweeney   \n",
            "13579     Yarraville        6 Agnes St      4    h  1285000     SP   Village   \n",
            "\n",
            "            Date  Distance  Postcode  Bedroom2  Bathroom   Car  Landsize  \\\n",
            "0     2016-03-12     2.500      3067         2         1 1.000   202.000   \n",
            "1     2016-04-02     2.500      3067         2         1 0.000   156.000   \n",
            "2     2017-04-03     2.500      3067         3         2 0.000   134.000   \n",
            "3     2017-04-03     2.500      3067         3         2 1.000    94.000   \n",
            "4     2016-04-06     2.500      3067         3         1 2.000   120.000   \n",
            "...          ...       ...       ...       ...       ...   ...       ...   \n",
            "13575 2017-08-26    16.700      3150         4         2 2.000   652.000   \n",
            "13576 2017-08-26     6.800      3016         3         2 2.000   333.000   \n",
            "13577 2017-08-26     6.800      3016         3         2 4.000   436.000   \n",
            "13578 2017-08-26     6.800      3016         4         1 5.000   866.000   \n",
            "13579 2017-08-26     6.300      3013         4         1 1.000   362.000   \n",
            "\n",
            "       BuildingArea  YearBuilt CouncilArea  Lattitude  Longtitude  \\\n",
            "0           151.968   1970.000       Yarra    -37.800     144.998   \n",
            "1            79.000   1900.000       Yarra    -37.808     144.993   \n",
            "2           150.000   1900.000       Yarra    -37.809     144.994   \n",
            "3           151.968   1970.000       Yarra    -37.797     144.997   \n",
            "4           142.000   2014.000       Yarra    -37.807     144.994   \n",
            "...             ...        ...         ...        ...         ...   \n",
            "13575       151.968   1981.000    Moreland    -37.906     145.168   \n",
            "13576       133.000   1995.000    Moreland    -37.859     144.879   \n",
            "13577       151.968   1997.000    Moreland    -37.853     144.887   \n",
            "13578       157.000   1920.000    Moreland    -37.859     144.893   \n",
            "13579       112.000   1920.000    Moreland    -37.812     144.884   \n",
            "\n",
            "                       Regionname  Propertycount  \n",
            "0           Northern Metropolitan           4019  \n",
            "1           Northern Metropolitan           4019  \n",
            "2           Northern Metropolitan           4019  \n",
            "3           Northern Metropolitan           4019  \n",
            "4           Northern Metropolitan           4019  \n",
            "...                           ...            ...  \n",
            "13575  South-Eastern Metropolitan           7392  \n",
            "13576        Western Metropolitan           6380  \n",
            "13577        Western Metropolitan           6380  \n",
            "13578        Western Metropolitan           6380  \n",
            "13579        Western Metropolitan           6543  \n",
            "\n",
            "[13580 rows x 21 columns]\n"
          ]
        }
      ]
    },
    {
      "cell_type": "markdown",
      "source": [
        "##### untuk handle outliers pada dataset ini tidak ada penghapusan kolom karena dikhawatirkan dapat mengganggu kolom lain dalam menentukan sebuah analisis kedepannya untuk itu treatment yang digunakan yaitu dengan menggunakan metode median karena tipe data diatas numerik"
      ],
      "metadata": {
        "id": "z4YKyaG-WVJ3"
      }
    },
    {
      "cell_type": "markdown",
      "source": [
        "#Descriptive Analysis"
      ],
      "metadata": {
        "id": "H8Fbd-1vYp5x"
      }
    },
    {
      "cell_type": "code",
      "source": [
        "df_melbourne.describe()"
      ],
      "metadata": {
        "id": "eY9pAD9QZHR3",
        "outputId": "a46bed62-d45a-46b3-bfed-0e3ed0ff7c7e",
        "colab": {
          "base_uri": "https://localhost:8080/",
          "height": 320
        }
      },
      "execution_count": null,
      "outputs": [
        {
          "output_type": "execute_result",
          "data": {
            "text/plain": [
              "          Rooms       Price  Distance  Postcode  Bedroom2  Bathroom       Car  \\\n",
              "count 13580.000   13580.000 13580.000 13580.000 13580.000 13580.000 13580.000   \n",
              "mean      2.938  965714.390     9.483  3105.302     2.915     1.534     1.612   \n",
              "std       0.956  425520.744     4.472    90.677     0.966     0.692     0.961   \n",
              "min       1.000   85000.000     0.000  3000.000     0.000     0.000     0.000   \n",
              "25%       2.000  650000.000     6.100  3044.000     2.000     1.000     1.000   \n",
              "50%       3.000  903000.000     9.200  3084.000     3.000     1.000     2.000   \n",
              "75%       3.000 1228250.000    12.400  3148.000     3.000     2.000     2.000   \n",
              "max      10.000 2275000.000    23.800  3977.000    20.000     8.000    10.000   \n",
              "\n",
              "        Landsize  BuildingArea  YearBuilt  Lattitude  Longtitude  \\\n",
              "count  13580.000     13580.000  13580.000  13580.000   13580.000   \n",
              "mean     558.416       151.968   1966.788    -37.809     144.995   \n",
              "std     3990.669       392.003     29.089      0.079       0.104   \n",
              "min        0.000         0.000   1196.000    -38.183     144.432   \n",
              "25%      177.000       122.000   1960.000    -37.857     144.930   \n",
              "50%      440.000       151.968   1970.000    -37.802     145.000   \n",
              "75%      651.000       151.968   1975.000    -37.756     145.058   \n",
              "max   433014.000     44515.000   2018.000    -37.409     145.526   \n",
              "\n",
              "       Propertycount  \n",
              "count      13580.000  \n",
              "mean        7454.417  \n",
              "std         4378.582  \n",
              "min          249.000  \n",
              "25%         4380.000  \n",
              "50%         6555.000  \n",
              "75%        10331.000  \n",
              "max        21650.000  "
            ],
            "text/html": [
              "\n",
              "  <div id=\"df-5f75e7b7-ff97-4a54-9061-76b77774239e\" class=\"colab-df-container\">\n",
              "    <div>\n",
              "<style scoped>\n",
              "    .dataframe tbody tr th:only-of-type {\n",
              "        vertical-align: middle;\n",
              "    }\n",
              "\n",
              "    .dataframe tbody tr th {\n",
              "        vertical-align: top;\n",
              "    }\n",
              "\n",
              "    .dataframe thead th {\n",
              "        text-align: right;\n",
              "    }\n",
              "</style>\n",
              "<table border=\"1\" class=\"dataframe\">\n",
              "  <thead>\n",
              "    <tr style=\"text-align: right;\">\n",
              "      <th></th>\n",
              "      <th>Rooms</th>\n",
              "      <th>Price</th>\n",
              "      <th>Distance</th>\n",
              "      <th>Postcode</th>\n",
              "      <th>Bedroom2</th>\n",
              "      <th>Bathroom</th>\n",
              "      <th>Car</th>\n",
              "      <th>Landsize</th>\n",
              "      <th>BuildingArea</th>\n",
              "      <th>YearBuilt</th>\n",
              "      <th>Lattitude</th>\n",
              "      <th>Longtitude</th>\n",
              "      <th>Propertycount</th>\n",
              "    </tr>\n",
              "  </thead>\n",
              "  <tbody>\n",
              "    <tr>\n",
              "      <th>count</th>\n",
              "      <td>13580.000</td>\n",
              "      <td>13580.000</td>\n",
              "      <td>13580.000</td>\n",
              "      <td>13580.000</td>\n",
              "      <td>13580.000</td>\n",
              "      <td>13580.000</td>\n",
              "      <td>13580.000</td>\n",
              "      <td>13580.000</td>\n",
              "      <td>13580.000</td>\n",
              "      <td>13580.000</td>\n",
              "      <td>13580.000</td>\n",
              "      <td>13580.000</td>\n",
              "      <td>13580.000</td>\n",
              "    </tr>\n",
              "    <tr>\n",
              "      <th>mean</th>\n",
              "      <td>2.938</td>\n",
              "      <td>965714.390</td>\n",
              "      <td>9.483</td>\n",
              "      <td>3105.302</td>\n",
              "      <td>2.915</td>\n",
              "      <td>1.534</td>\n",
              "      <td>1.612</td>\n",
              "      <td>558.416</td>\n",
              "      <td>151.968</td>\n",
              "      <td>1966.788</td>\n",
              "      <td>-37.809</td>\n",
              "      <td>144.995</td>\n",
              "      <td>7454.417</td>\n",
              "    </tr>\n",
              "    <tr>\n",
              "      <th>std</th>\n",
              "      <td>0.956</td>\n",
              "      <td>425520.744</td>\n",
              "      <td>4.472</td>\n",
              "      <td>90.677</td>\n",
              "      <td>0.966</td>\n",
              "      <td>0.692</td>\n",
              "      <td>0.961</td>\n",
              "      <td>3990.669</td>\n",
              "      <td>392.003</td>\n",
              "      <td>29.089</td>\n",
              "      <td>0.079</td>\n",
              "      <td>0.104</td>\n",
              "      <td>4378.582</td>\n",
              "    </tr>\n",
              "    <tr>\n",
              "      <th>min</th>\n",
              "      <td>1.000</td>\n",
              "      <td>85000.000</td>\n",
              "      <td>0.000</td>\n",
              "      <td>3000.000</td>\n",
              "      <td>0.000</td>\n",
              "      <td>0.000</td>\n",
              "      <td>0.000</td>\n",
              "      <td>0.000</td>\n",
              "      <td>0.000</td>\n",
              "      <td>1196.000</td>\n",
              "      <td>-38.183</td>\n",
              "      <td>144.432</td>\n",
              "      <td>249.000</td>\n",
              "    </tr>\n",
              "    <tr>\n",
              "      <th>25%</th>\n",
              "      <td>2.000</td>\n",
              "      <td>650000.000</td>\n",
              "      <td>6.100</td>\n",
              "      <td>3044.000</td>\n",
              "      <td>2.000</td>\n",
              "      <td>1.000</td>\n",
              "      <td>1.000</td>\n",
              "      <td>177.000</td>\n",
              "      <td>122.000</td>\n",
              "      <td>1960.000</td>\n",
              "      <td>-37.857</td>\n",
              "      <td>144.930</td>\n",
              "      <td>4380.000</td>\n",
              "    </tr>\n",
              "    <tr>\n",
              "      <th>50%</th>\n",
              "      <td>3.000</td>\n",
              "      <td>903000.000</td>\n",
              "      <td>9.200</td>\n",
              "      <td>3084.000</td>\n",
              "      <td>3.000</td>\n",
              "      <td>1.000</td>\n",
              "      <td>2.000</td>\n",
              "      <td>440.000</td>\n",
              "      <td>151.968</td>\n",
              "      <td>1970.000</td>\n",
              "      <td>-37.802</td>\n",
              "      <td>145.000</td>\n",
              "      <td>6555.000</td>\n",
              "    </tr>\n",
              "    <tr>\n",
              "      <th>75%</th>\n",
              "      <td>3.000</td>\n",
              "      <td>1228250.000</td>\n",
              "      <td>12.400</td>\n",
              "      <td>3148.000</td>\n",
              "      <td>3.000</td>\n",
              "      <td>2.000</td>\n",
              "      <td>2.000</td>\n",
              "      <td>651.000</td>\n",
              "      <td>151.968</td>\n",
              "      <td>1975.000</td>\n",
              "      <td>-37.756</td>\n",
              "      <td>145.058</td>\n",
              "      <td>10331.000</td>\n",
              "    </tr>\n",
              "    <tr>\n",
              "      <th>max</th>\n",
              "      <td>10.000</td>\n",
              "      <td>2275000.000</td>\n",
              "      <td>23.800</td>\n",
              "      <td>3977.000</td>\n",
              "      <td>20.000</td>\n",
              "      <td>8.000</td>\n",
              "      <td>10.000</td>\n",
              "      <td>433014.000</td>\n",
              "      <td>44515.000</td>\n",
              "      <td>2018.000</td>\n",
              "      <td>-37.409</td>\n",
              "      <td>145.526</td>\n",
              "      <td>21650.000</td>\n",
              "    </tr>\n",
              "  </tbody>\n",
              "</table>\n",
              "</div>\n",
              "    <div class=\"colab-df-buttons\">\n",
              "\n",
              "  <div class=\"colab-df-container\">\n",
              "    <button class=\"colab-df-convert\" onclick=\"convertToInteractive('df-5f75e7b7-ff97-4a54-9061-76b77774239e')\"\n",
              "            title=\"Convert this dataframe to an interactive table.\"\n",
              "            style=\"display:none;\">\n",
              "\n",
              "  <svg xmlns=\"http://www.w3.org/2000/svg\" height=\"24px\" viewBox=\"0 -960 960 960\">\n",
              "    <path d=\"M120-120v-720h720v720H120Zm60-500h600v-160H180v160Zm220 220h160v-160H400v160Zm0 220h160v-160H400v160ZM180-400h160v-160H180v160Zm440 0h160v-160H620v160ZM180-180h160v-160H180v160Zm440 0h160v-160H620v160Z\"/>\n",
              "  </svg>\n",
              "    </button>\n",
              "\n",
              "  <style>\n",
              "    .colab-df-container {\n",
              "      display:flex;\n",
              "      gap: 12px;\n",
              "    }\n",
              "\n",
              "    .colab-df-convert {\n",
              "      background-color: #E8F0FE;\n",
              "      border: none;\n",
              "      border-radius: 50%;\n",
              "      cursor: pointer;\n",
              "      display: none;\n",
              "      fill: #1967D2;\n",
              "      height: 32px;\n",
              "      padding: 0 0 0 0;\n",
              "      width: 32px;\n",
              "    }\n",
              "\n",
              "    .colab-df-convert:hover {\n",
              "      background-color: #E2EBFA;\n",
              "      box-shadow: 0px 1px 2px rgba(60, 64, 67, 0.3), 0px 1px 3px 1px rgba(60, 64, 67, 0.15);\n",
              "      fill: #174EA6;\n",
              "    }\n",
              "\n",
              "    .colab-df-buttons div {\n",
              "      margin-bottom: 4px;\n",
              "    }\n",
              "\n",
              "    [theme=dark] .colab-df-convert {\n",
              "      background-color: #3B4455;\n",
              "      fill: #D2E3FC;\n",
              "    }\n",
              "\n",
              "    [theme=dark] .colab-df-convert:hover {\n",
              "      background-color: #434B5C;\n",
              "      box-shadow: 0px 1px 3px 1px rgba(0, 0, 0, 0.15);\n",
              "      filter: drop-shadow(0px 1px 2px rgba(0, 0, 0, 0.3));\n",
              "      fill: #FFFFFF;\n",
              "    }\n",
              "  </style>\n",
              "\n",
              "    <script>\n",
              "      const buttonEl =\n",
              "        document.querySelector('#df-5f75e7b7-ff97-4a54-9061-76b77774239e button.colab-df-convert');\n",
              "      buttonEl.style.display =\n",
              "        google.colab.kernel.accessAllowed ? 'block' : 'none';\n",
              "\n",
              "      async function convertToInteractive(key) {\n",
              "        const element = document.querySelector('#df-5f75e7b7-ff97-4a54-9061-76b77774239e');\n",
              "        const dataTable =\n",
              "          await google.colab.kernel.invokeFunction('convertToInteractive',\n",
              "                                                    [key], {});\n",
              "        if (!dataTable) return;\n",
              "\n",
              "        const docLinkHtml = 'Like what you see? Visit the ' +\n",
              "          '<a target=\"_blank\" href=https://colab.research.google.com/notebooks/data_table.ipynb>data table notebook</a>'\n",
              "          + ' to learn more about interactive tables.';\n",
              "        element.innerHTML = '';\n",
              "        dataTable['output_type'] = 'display_data';\n",
              "        await google.colab.output.renderOutput(dataTable, element);\n",
              "        const docLink = document.createElement('div');\n",
              "        docLink.innerHTML = docLinkHtml;\n",
              "        element.appendChild(docLink);\n",
              "      }\n",
              "    </script>\n",
              "  </div>\n",
              "\n",
              "\n",
              "<div id=\"df-9b641e29-f43b-4e43-9941-75fe1b4962a4\">\n",
              "  <button class=\"colab-df-quickchart\" onclick=\"quickchart('df-9b641e29-f43b-4e43-9941-75fe1b4962a4')\"\n",
              "            title=\"Suggest charts\"\n",
              "            style=\"display:none;\">\n",
              "\n",
              "<svg xmlns=\"http://www.w3.org/2000/svg\" height=\"24px\"viewBox=\"0 0 24 24\"\n",
              "     width=\"24px\">\n",
              "    <g>\n",
              "        <path d=\"M19 3H5c-1.1 0-2 .9-2 2v14c0 1.1.9 2 2 2h14c1.1 0 2-.9 2-2V5c0-1.1-.9-2-2-2zM9 17H7v-7h2v7zm4 0h-2V7h2v10zm4 0h-2v-4h2v4z\"/>\n",
              "    </g>\n",
              "</svg>\n",
              "  </button>\n",
              "\n",
              "<style>\n",
              "  .colab-df-quickchart {\n",
              "      --bg-color: #E8F0FE;\n",
              "      --fill-color: #1967D2;\n",
              "      --hover-bg-color: #E2EBFA;\n",
              "      --hover-fill-color: #174EA6;\n",
              "      --disabled-fill-color: #AAA;\n",
              "      --disabled-bg-color: #DDD;\n",
              "  }\n",
              "\n",
              "  [theme=dark] .colab-df-quickchart {\n",
              "      --bg-color: #3B4455;\n",
              "      --fill-color: #D2E3FC;\n",
              "      --hover-bg-color: #434B5C;\n",
              "      --hover-fill-color: #FFFFFF;\n",
              "      --disabled-bg-color: #3B4455;\n",
              "      --disabled-fill-color: #666;\n",
              "  }\n",
              "\n",
              "  .colab-df-quickchart {\n",
              "    background-color: var(--bg-color);\n",
              "    border: none;\n",
              "    border-radius: 50%;\n",
              "    cursor: pointer;\n",
              "    display: none;\n",
              "    fill: var(--fill-color);\n",
              "    height: 32px;\n",
              "    padding: 0;\n",
              "    width: 32px;\n",
              "  }\n",
              "\n",
              "  .colab-df-quickchart:hover {\n",
              "    background-color: var(--hover-bg-color);\n",
              "    box-shadow: 0 1px 2px rgba(60, 64, 67, 0.3), 0 1px 3px 1px rgba(60, 64, 67, 0.15);\n",
              "    fill: var(--button-hover-fill-color);\n",
              "  }\n",
              "\n",
              "  .colab-df-quickchart-complete:disabled,\n",
              "  .colab-df-quickchart-complete:disabled:hover {\n",
              "    background-color: var(--disabled-bg-color);\n",
              "    fill: var(--disabled-fill-color);\n",
              "    box-shadow: none;\n",
              "  }\n",
              "\n",
              "  .colab-df-spinner {\n",
              "    border: 2px solid var(--fill-color);\n",
              "    border-color: transparent;\n",
              "    border-bottom-color: var(--fill-color);\n",
              "    animation:\n",
              "      spin 1s steps(1) infinite;\n",
              "  }\n",
              "\n",
              "  @keyframes spin {\n",
              "    0% {\n",
              "      border-color: transparent;\n",
              "      border-bottom-color: var(--fill-color);\n",
              "      border-left-color: var(--fill-color);\n",
              "    }\n",
              "    20% {\n",
              "      border-color: transparent;\n",
              "      border-left-color: var(--fill-color);\n",
              "      border-top-color: var(--fill-color);\n",
              "    }\n",
              "    30% {\n",
              "      border-color: transparent;\n",
              "      border-left-color: var(--fill-color);\n",
              "      border-top-color: var(--fill-color);\n",
              "      border-right-color: var(--fill-color);\n",
              "    }\n",
              "    40% {\n",
              "      border-color: transparent;\n",
              "      border-right-color: var(--fill-color);\n",
              "      border-top-color: var(--fill-color);\n",
              "    }\n",
              "    60% {\n",
              "      border-color: transparent;\n",
              "      border-right-color: var(--fill-color);\n",
              "    }\n",
              "    80% {\n",
              "      border-color: transparent;\n",
              "      border-right-color: var(--fill-color);\n",
              "      border-bottom-color: var(--fill-color);\n",
              "    }\n",
              "    90% {\n",
              "      border-color: transparent;\n",
              "      border-bottom-color: var(--fill-color);\n",
              "    }\n",
              "  }\n",
              "</style>\n",
              "\n",
              "  <script>\n",
              "    async function quickchart(key) {\n",
              "      const quickchartButtonEl =\n",
              "        document.querySelector('#' + key + ' button');\n",
              "      quickchartButtonEl.disabled = true;  // To prevent multiple clicks.\n",
              "      quickchartButtonEl.classList.add('colab-df-spinner');\n",
              "      try {\n",
              "        const charts = await google.colab.kernel.invokeFunction(\n",
              "            'suggestCharts', [key], {});\n",
              "      } catch (error) {\n",
              "        console.error('Error during call to suggestCharts:', error);\n",
              "      }\n",
              "      quickchartButtonEl.classList.remove('colab-df-spinner');\n",
              "      quickchartButtonEl.classList.add('colab-df-quickchart-complete');\n",
              "    }\n",
              "    (() => {\n",
              "      let quickchartButtonEl =\n",
              "        document.querySelector('#df-9b641e29-f43b-4e43-9941-75fe1b4962a4 button');\n",
              "      quickchartButtonEl.style.display =\n",
              "        google.colab.kernel.accessAllowed ? 'block' : 'none';\n",
              "    })();\n",
              "  </script>\n",
              "</div>\n",
              "    </div>\n",
              "  </div>\n"
            ]
          },
          "metadata": {},
          "execution_count": 31
        }
      ]
    },
    {
      "cell_type": "code",
      "source": [],
      "metadata": {
        "id": "HY0q6tbDyFEs"
      },
      "execution_count": null,
      "outputs": []
    },
    {
      "cell_type": "markdown",
      "source": [
        "Berdasarkan descriptive statistics diatas, dapat diketahui bahwa :\n",
        "1. Terdapat beberapa rumah yang tidak memiliki bedroom dan bathroom\n",
        "2. Nilai YearBuilt terendah adalah 1196 yang kemungkinan merupakan salah entry\n",
        "3. Range antara harga tertinggi dan terendah cukup besar yaitu 2 juta 275 ribu dollar dan 85 ribu dollar.\n",
        "4. Terdapat beberapa rumah yang memiliki nilai 0 pada kolom car, landsize dan building area.\n"
      ],
      "metadata": {
        "id": "KZIHxKEznvdz"
      }
    },
    {
      "cell_type": "code",
      "source": [
        "df_melbourne.hist(bins=40, figsize=(20,15))"
      ],
      "metadata": {
        "colab": {
          "base_uri": "https://localhost:8080/",
          "height": 981
        },
        "id": "8IEEHQXifTyC",
        "outputId": "43df671e-106e-4ac7-9b0e-1ac12bfe716b"
      },
      "execution_count": null,
      "outputs": [
        {
          "output_type": "execute_result",
          "data": {
            "text/plain": [
              "array([[<Axes: title={'center': 'Rooms'}>,\n",
              "        <Axes: title={'center': 'Price'}>,\n",
              "        <Axes: title={'center': 'Date'}>,\n",
              "        <Axes: title={'center': 'Distance'}>],\n",
              "       [<Axes: title={'center': 'Postcode'}>,\n",
              "        <Axes: title={'center': 'Bedroom2'}>,\n",
              "        <Axes: title={'center': 'Bathroom'}>,\n",
              "        <Axes: title={'center': 'Car'}>],\n",
              "       [<Axes: title={'center': 'Landsize'}>,\n",
              "        <Axes: title={'center': 'BuildingArea'}>,\n",
              "        <Axes: title={'center': 'YearBuilt'}>,\n",
              "        <Axes: title={'center': 'Lattitude'}>],\n",
              "       [<Axes: title={'center': 'Longtitude'}>,\n",
              "        <Axes: title={'center': 'Propertycount'}>, <Axes: >, <Axes: >]],\n",
              "      dtype=object)"
            ]
          },
          "metadata": {},
          "execution_count": 32
        },
        {
          "output_type": "display_data",
          "data": {
            "text/plain": [
              "<Figure size 2000x1500 with 16 Axes>"
            ],
            "image/png": "[encoded data removed]"
          },
          "metadata": {}
        }
      ]
    },
    {
      "cell_type": "markdown",
      "source": [
        "Berdasarkan histogram diatas dapat diketahui bahwa :  \n",
        "1. Sekitar 50 % rumah tidak memiliki BuildingArea.\n",
        "2. Sebagian besar rumah berada dalam jangkauan 15 km dari pusat kota.\n",
        "3. Hampir semua rumah memiliki nilai Landsize 0.\n",
        "4. Sebagian besar rumah berada pada longtitude 144.8 hingga 145.2 dan lattitude -38.0 hingga -37.6\n",
        "5. Sebagian besar rumah memiliki 1 sampai 5 bedroom.\n",
        "6. Lebih dari 50 % rumah hanya memiliki 1 bathroom.\n",
        "7. Sebagian besar rumah hanya memiliki 1 sampai 2 parkir mobil."
      ],
      "metadata": {
        "id": "SONQ8JQNyNvF"
      }
    },
    {
      "cell_type": "code",
      "source": [
        "df_melbourne.count()"
      ],
      "metadata": {
        "id": "84ffKYpA1UdU",
        "colab": {
          "base_uri": "https://localhost:8080/"
        },
        "outputId": "f47a4ab1-488f-4e60-cfa2-d51a86d1db2b"
      },
      "execution_count": null,
      "outputs": [
        {
          "output_type": "execute_result",
          "data": {
            "text/plain": [
              "Suburb           13580\n",
              "Address          13580\n",
              "Rooms            13580\n",
              "Type             13580\n",
              "Price            13580\n",
              "Method           13580\n",
              "SellerG          13580\n",
              "Date             13580\n",
              "Distance         13580\n",
              "Postcode         13580\n",
              "Bedroom2         13580\n",
              "Bathroom         13580\n",
              "Car              13580\n",
              "Landsize         13580\n",
              "BuildingArea     13580\n",
              "YearBuilt        13580\n",
              "CouncilArea      13580\n",
              "Lattitude        13580\n",
              "Longtitude       13580\n",
              "Regionname       13580\n",
              "Propertycount    13580\n",
              "dtype: int64"
            ]
          },
          "metadata": {},
          "execution_count": 34
        }
      ]
    },
    {
      "cell_type": "markdown",
      "source": [
        "#Summary"
      ],
      "metadata": {
        "id": "IMybf3dpYr-p"
      }
    },
    {
      "cell_type": "markdown",
      "source": [
        "Berdasarkan hasil descriptive analysis diatas, maka dapat disimpulkan bahwa :\n",
        "1. Terdapat beberapa rumah yang tidak memiliki bedroom dan bathroom sehingga dapat diasumsikan pertama, data tersebut salah entry. Kedua, rumah tersebut memang tidak memiliki bedroom dan bathroom yang dikarenakan landsize dan ukuran bangunannya yang kecil sehingga harganya relatif murah.\n",
        "\n",
        "2. Range antara harga tertinggi dan terendah cukup besar yaitu 2 juta 275 ribu dollar dan 85 ribu dollar. Jarak harga yang cukup jauh tersebut dapat dipengaruhi oleh suatu variabel contohnya seperti distance dimana harga rumah akan semakin mahal apabila jaraknya lebih dekat dengan pusat kota.\n",
        "\n",
        "3. Terdapat beberapa rumah memiliki nilai 0 pada Landsize dan BuildingArea. Asumsinya rumah rumah tersebut merupakan apartemen sehingga Landsize dan BuildingArea bernilai 0.\n",
        "\n",
        "4. Sebagian besar rumah dibangun pada tahun 1900 hingga 2000. Asumsinya variabel YearBuilt sama dengan distance dalam mempengaruhi harga price dimana rumah yang dibangun dibawah tahun 1950 kemungkinan besar harganya akan mahal.\n",
        "5. Sebagian besar rumah berada dalam jangkauan 15 km dari pusat kota. Asumsinya rumah rumah yang jaraknya dekat dengan pusat kota merupakan rumah dengan tipe townhouse."
      ],
      "metadata": {
        "id": "Cf4KORA8_5tL"
      }
    },
    {
      "cell_type": "markdown",
      "source": [
        "#Export Cleaned Data"
      ],
      "metadata": {
        "id": "K-NjbebjZm-Q"
      }
    },
    {
      "cell_type": "code",
      "source": [
        "df_melbourne.to_csv('Cleaned Melbourne Housing Market 2.csv', index=False)"
      ],
      "metadata": {
        "id": "HiyTphGfZqig"
      },
      "execution_count": null,
      "outputs": []
    }
  ]
}